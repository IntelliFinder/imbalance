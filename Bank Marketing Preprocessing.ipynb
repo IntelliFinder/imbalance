{
 "cells": [
  {
   "cell_type": "code",
   "execution_count": null,
   "metadata": {
    "collapsed": false
   },
   "outputs": [],
   "source": [
    "# Install a conda package in the current Jupyter kernel\n",
    "import sys\n",
    "!conda install --yes --prefix {sys.prefix} numpy\n",
    "!conda install --yes --prefix {sys.prefix} pandas\n",
    "!conda install --yes --prefix {sys.prefix} re\n"
   ]
  },
  {
   "cell_type": "code",
   "execution_count": null,
   "metadata": {
    "collapsed": true
   },
   "outputs": [],
   "source": [
    "import numpy as np\n",
    "import pandas as pd\n",
    "import re\n",
    "import random\n",
    "from sklearn import preprocessing\n",
    "import sys\n",
    "\n",
    "#import data\n",
    "\n",
    "data_array=pd.read_table('data/bank-additional/bank-additional/bank-additional-full.csv', header=None, sep=';')\n",
    "data=pd.DataFrame(data=data_array)\n",
    "he=data\n",
    "#categorical features\n",
    "\n",
    "num_of_dim = 10\n",
    "dom_categories = ['Age', 'Balance','Day','Duration'`, 'Campaign', 'Pdays', 'Previous']\n",
    "cat_domains = [[18,95], [-8019, 102127], [1,31],[0,5100],[1,63],[-1,871],[0,275]]\n",
    "#create categories\n",
    "for idx, cat in enumerate(dom_categories):\n",
    "    size = (cat_domains[idx][1]-cat_domains[idx][0])\n",
    "    for cell in data[cat]:\n",
    "        beg = cell-cat_domains[idx][0]\n",
    "        cell = int(10*(beg/size))\n",
    "        cell = str(cell)\n",
    "for c in dom_categories:    \n",
    "    dummy = pd.get_dummies(data[c], prefix=c)\n",
    "    he = pd.concat([he,dummy], axis=1)\n",
    "#remove duration column\n",
    "he.drop(['Duration'], axis=1)"
   ]
  },
  {
   "cell_type": "code",
   "execution_count": null,
   "metadata": {
    "collapsed": true
   },
   "outputs": [],
   "source": [
    "he"
   ]
  },
  {
   "cell_type": "code",
   "execution_count": null,
   "metadata": {
    "collapsed": true
   },
   "outputs": [],
   "source": []
  }
 ],
 "metadata": {
  "kernelspec": {
   "display_name": "Python 3",
   "language": "python",
   "name": "python3"
  },
  "language_info": {
   "codemirror_mode": {
    "name": "ipython",
    "version": 3
   },
   "file_extension": ".py",
   "mimetype": "text/x-python",
   "name": "python",
   "nbconvert_exporter": "python",
   "pygments_lexer": "ipython3",
   "version": "3.6.6"
  }
 },
 "nbformat": 4,
 "nbformat_minor": 2
}
