{
 "cells": [
  {
   "cell_type": "markdown",
   "metadata": {},
   "source": [
    "sklearn.datasets.fetch_california_housing(data_home=None, download_if_missing=True)\n",
    "http://scikit-learn.org/stable/modules/grid_search.html"
   ]
  },
  {
   "cell_type": "code",
   "execution_count": 27,
   "metadata": {
    "collapsed": false
   },
   "outputs": [],
   "source": [
    "import numpy as np\n",
    "import matplotlib.pyplot as plt\n",
    "\n",
    "from scipy.ndimage import convolve\n",
    "from sklearn import linear_model, datasets, metrics\n",
    "from sklearn.model_selection import train_test_split\n",
    "from sklearn.neural_network import BernoulliRBM\n",
    "\n",
    "X = np.array([[0, 1, 0],[1, 0, 0], [1, 0, 1], [1, 1, 1]])\n",
    "model = BernoulliRBM(n_components=10, n_iter=100)\n"
   ]
  },
  {
   "cell_type": "code",
   "execution_count": 28,
   "metadata": {
    "collapsed": false
   },
   "outputs": [
    {
     "data": {
      "text/plain": [
       "array([[0.32933076, 0.32529716, 0.32595247, 0.33620524, 0.32653233,\n",
       "        0.32245459, 0.32242017, 0.32491066, 0.33173811, 0.32862016],\n",
       "       [0.30738097, 0.3089974 , 0.30836607, 0.3125398 , 0.3091786 ,\n",
       "        0.30678256, 0.30880048, 0.30530441, 0.31206717, 0.30989291],\n",
       "       [0.28676735, 0.28534126, 0.28432959, 0.28149296, 0.28618163,\n",
       "        0.28566607, 0.28888373, 0.28165783, 0.29090903, 0.28663678],\n",
       "       [0.27831557, 0.27499317, 0.27426528, 0.27601176, 0.27641837,\n",
       "        0.2740254 , 0.27727269, 0.27107963, 0.28365403, 0.27784175]])"
      ]
     },
     "execution_count": 28,
     "metadata": {},
     "output_type": "execute_result"
    }
   ],
   "source": [
    "model.fit_transform(X)"
   ]
  },
  {
   "cell_type": "code",
   "execution_count": null,
   "metadata": {
    "collapsed": true
   },
   "outputs": [],
   "source": []
  }
 ],
 "metadata": {
  "kernelspec": {
   "display_name": "Python 3",
   "language": "python",
   "name": "python3"
  },
  "language_info": {
   "codemirror_mode": {
    "name": "ipython",
    "version": 3
   },
   "file_extension": ".py",
   "mimetype": "text/x-python",
   "name": "python",
   "nbconvert_exporter": "python",
   "pygments_lexer": "ipython3",
   "version": "3.6.6"
  }
 },
 "nbformat": 4,
 "nbformat_minor": 2
}
