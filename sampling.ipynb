{
 "cells": [
  {
   "cell_type": "code",
   "execution_count": 1,
   "metadata": {
    "collapsed": false
   },
   "outputs": [
    {
     "name": "stderr",
     "output_type": "stream",
     "text": [
      "C:\\Users\\Snir\\Anaconda3\\lib\\site-packages\\sklearn\\ensemble\\weight_boosting.py:29: DeprecationWarning: numpy.core.umath_tests is an internal NumPy module and should not be imported. It will be removed in a future NumPy release.\n",
      "  from numpy.core.umath_tests import inner1d\n"
     ]
    }
   ],
   "source": [
    "import numpy as np\n",
    "from sklearn.model_selection import train_test_split, KFold, GridSearchCV,RandomizedSearchCV\n",
    "import pandas as pd\n",
    "from sklearn.datasets import make_classification\n",
    "from imblearn import over_sampling as os\n",
    "from collections import Counter\n",
    "from imblearn.metrics import classification_report_imbalanced"
   ]
  },
  {
   "cell_type": "code",
   "execution_count": 2,
   "metadata": {
    "collapsed": false
   },
   "outputs": [
    {
     "name": "stdout",
     "output_type": "stream",
     "text": [
      "Original dataset shape Counter({0: 89563, 1: 10437})\n"
     ]
    }
   ],
   "source": [
    "n_samples=100000\n",
    "n_features=20\n",
    "X, y = make_classification(n_samples=n_samples, n_features=n_features, n_informative=5, n_redundant=2, n_repeated=0, n_classes=2,\\\n",
    "                           n_clusters_per_class=2, weights=[0.9,0.1], flip_y=0.01, class_sep=1.0, hypercube=True, shift=0.0,\\\n",
    "                           scale=1.0, shuffle=True, random_state=None)\n",
    "X_train, X_test, y_train, y_test = train_test_split( X, y, test_size=0.33, random_state=42)\n",
    "print('Original dataset shape {}'.format(Counter(y)))"
   ]
  },
  {
   "cell_type": "code",
   "execution_count": 3,
   "metadata": {
    "collapsed": false
   },
   "outputs": [
    {
     "data": {
      "text/plain": [
       "array([[-0.37306046, -1.04626264,  0.34963468, ..., -0.458749  ,\n",
       "        -1.06065815,  0.46845953],\n",
       "       [ 1.5646279 ,  0.42251736,  0.20601484, ...,  0.29757159,\n",
       "        -0.6318836 , -1.13125316],\n",
       "       [-0.04196718, -0.57205102, -0.266692  , ...,  0.13770551,\n",
       "         2.17009072,  1.6144471 ],\n",
       "       ...,\n",
       "       [ 0.29587586,  0.01823618,  0.40162298, ...,  0.26889123,\n",
       "         0.68122831, -1.27395354],\n",
       "       [ 0.92537268, -0.78853999, -0.14250496, ..., -0.15997442,\n",
       "        -0.23431243, -0.9836468 ],\n",
       "       [-0.81950223,  1.71240727, -2.57276883, ..., -2.16843722,\n",
       "        -0.43762373, -1.13475724]])"
      ]
     },
     "execution_count": 3,
     "metadata": {},
     "output_type": "execute_result"
    }
   ],
   "source": [
    "X_train"
   ]
  },
  {
   "cell_type": "code",
   "execution_count": 4,
   "metadata": {
    "collapsed": false
   },
   "outputs": [
    {
     "name": "stdout",
     "output_type": "stream",
     "text": [
      "Resampled dataset shape Counter({1: 89476, 0: 75364})\n"
     ]
    }
   ],
   "source": [
    "sme = os.SMOTEENN(ratio='minority', random_state=None, smote=None, enn=None, k=None, m=None,\\\n",
    "                          out_step=None, kind_smote=None, size_ngh=None, n_neighbors=None, kind_enn=None, n_jobs=None)\n",
    "X_res, y_res = sme.fit_sample(X, y)\n",
    "print('Resampled dataset shape {}'.format(Counter(y_res)))\n",
    "#print(classification_report_imbalanced(y_test, y))"
   ]
  },
  {
   "cell_type": "code",
   "execution_count": null,
   "metadata": {
    "collapsed": true
   },
   "outputs": [],
   "source": []
  }
 ],
 "metadata": {
  "kernelspec": {
   "display_name": "Python 3",
   "language": "python",
   "name": "python3"
  },
  "language_info": {
   "codemirror_mode": {
    "name": "ipython",
    "version": 3
   },
   "file_extension": ".py",
   "mimetype": "text/x-python",
   "name": "python",
   "nbconvert_exporter": "python",
   "pygments_lexer": "ipython3",
   "version": "3.6.6"
  }
 },
 "nbformat": 4,
 "nbformat_minor": 2
}
