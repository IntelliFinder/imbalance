{
 "cells": [
  {
   "cell_type": "code",
   "execution_count": 1,
   "metadata": {
    "collapsed": true
   },
   "outputs": [],
   "source": [
    "# create data : from sklearn.datasets import make_blobs \n",
    "#https://www.programcreek.com/python/example/100588/keras.layers.normalization.BatchNormalization"
   ]
  },
  {
   "cell_type": "code",
   "execution_count": 2,
   "metadata": {
    "collapsed": false
   },
   "outputs": [],
   "source": [
    "import pandas as pd\n",
    "import numpy as np\n",
    "from sklearn.datasets import make_classification\n",
    "n_samples=100000\n",
    "n_features=20\n",
    "X, y = make_classification(n_samples=n_samples, n_features=n_features, n_informative=5, n_redundant=2, n_repeated=0, n_classes=2,\\\n",
    "                           n_clusters_per_class=2, weights=[0.9,0.1], flip_y=0.01, class_sep=1.0, hypercube=True, shift=0.0,\\\n",
    "                           scale=1.0, shuffle=True, random_state=None)\n",
    "y=np.array(y)\n",
    "X=np.array(X)\n",
    "y=np.reshape(y,(n_samples, 1))\n",
    "X=np.reshape(X, (n_samples, n_features))"
   ]
  },
  {
   "cell_type": "code",
   "execution_count": 3,
   "metadata": {
    "collapsed": false
   },
   "outputs": [
    {
     "data": {
      "text/plain": [
       "(100000, 1)"
      ]
     },
     "execution_count": 3,
     "metadata": {},
     "output_type": "execute_result"
    }
   ],
   "source": [
    "\n",
    "y.shape"
   ]
  },
  {
   "cell_type": "code",
   "execution_count": 4,
   "metadata": {
    "collapsed": false
   },
   "outputs": [
    {
     "name": "stderr",
     "output_type": "stream",
     "text": [
      "Using TensorFlow backend.\n"
     ]
    }
   ],
   "source": [
    "\n",
    "from __future__ import print_function\n",
    "\n",
    "import keras\n",
    "from keras.datasets import mnist\n",
    "from keras.models import Sequential\n",
    "from keras.layers.core import Dense, Dropout, Activation\n",
    "from keras.layers.noise import AlphaDropout\n",
    "from keras.utils import np_utils\n",
    "from keras.optimizers import RMSprop\n",
    "from keras.initializers import lecun_uniform\n",
    "from keras.wrappers.scikit_learn import KerasClassifier\n",
    "from keras import regularizers\n",
    "\n",
    "from keras import backend as K\n",
    "from keras import callbacks\n",
    "from keras import layers\n",
    "from keras import models\n",
    "from keras.wrappers.scikit_learn import KerasClassifier\n",
    "import pandas as pd\n",
    "import tensorflow as tf\n",
    "from sklearn import metrics\n",
    "from sklearn import pipeline\n",
    "from sklearn import preprocessing\n",
    "from sklearn.externals import joblib\n",
    "def construct_model(layers=[50,50], activation='relu', a_reg='l1', b_reg='l1', b_init='random_uniform', k_init='random_uniform', dropout=.0,\\\n",
    "                    a_dropout=.0, optimizer='sgd', loss='binary_crossentropy', metrics='roc_auc_score',input_dim=20, output_dim=1, model_name='most'):\n",
    "    \"\"\"\n",
    "    Helper to construct a Keras model based on dict of specs and input size\n",
    "\n",
    "    Parameters\n",
    "    ----------\n",
    "    model_spec: dict\n",
    "        Dict containing keys: arch, activation, dropout, optimizer, loss,\n",
    "            w_reg, metrics\n",
    "    input_dim: int\n",
    "        Size of input dimension\n",
    "    output_dim: int\n",
    "        Size of input dimension\n",
    "\n",
    "    Returns\n",
    "    -------\n",
    "    model: Compiled keras.models.Sequential\n",
    "\n",
    "    \"\"\"\n",
    "\n",
    "    model = Sequential()\n",
    "\n",
    "    for li, layer_size in enumerate(layers):\n",
    "        # For input layer, add input dimension\n",
    "        if li == 0:\n",
    "            temp_input_dim = input_dim\n",
    "            model.add(Dense(layer_size,\n",
    "                            input_dim=temp_input_dim,\n",
    "                            activation=activation,\n",
    "                            bias_initializer=b_init,\n",
    "                            kernel_initializer=k_init,\n",
    "                            name='Input'))\n",
    "        elif li < len(layers)-1:\n",
    "            model.add(Dense(layer_size,\n",
    "                            activation=activation,\n",
    "                            bias_initializer=b_init,\n",
    "                            kernel_initializer=k_init,\n",
    "                            name='Layer_%i' % li))\n",
    "        elif li == len(layers)-1:\n",
    "            model.add(Dense( output_dim ,\n",
    "                            activation='sigmoid',\n",
    "                            bias_initializer=b_init,\n",
    "                            kernel_initializer=k_init,\n",
    "                            name='Layer_%i' % li))\n",
    "            \n",
    "        if dropout > 0. :\n",
    "            if a_dropout == 0.:\n",
    "                model.add(Dropout(dropout, name='Dropout_%i' % li))\n",
    "        if a_dropout > 0.:\n",
    "            model.add(Dropout(a_dropout, name='Dropout_%i' % li))\n",
    "    model.compile(optimizer=optimizer,\n",
    "                  loss=loss,\n",
    "                  metrics=[metrics])\n",
    "    #keras.callbacks.TensorBoard(log_dir='./logs', histogram_freq=0, save_best_only=True, \\\n",
    "    #                                write_graph=True, write_images=False)\n",
    "\n",
    "    return model \n",
    "early_stopping = callbacks.EarlyStopping(monitor='val_loss', patience=1, verbose=0, mode='auto')\n",
    "pipe = pipeline.Pipeline([\n",
    "    ('rescale', preprocessing.StandardScaler()),\n",
    "    ('nn', KerasClassifier(build_fn=model, epochs=10, batch_size=128,\n",
    "                           validation_split=0.2, callbacks=[early_stopping]))\n",
    "])"
   ]
  },
  {
   "cell_type": "code",
   "execution_count": 5,
   "metadata": {
    "collapsed": true
   },
   "outputs": [],
   "source": [
    "def construct_model_no_act(layers=[50,50], activation='relu', a_reg='l1', b_reg='l1', b_init='random_uniform', k_init='random_uniform', dropout=.0,\\\n",
    "                    a_dropout=.0, optimizer='sgd', loss='binary_crossentropy', metrics='accuracy',input_dim=20, output_dim=1, model_name='most'):\n",
    "    \"\"\"\n",
    "    Helper to construct a Keras model based on dict of specs and input size\n",
    "\n",
    "    Parameters\n",
    "    ----------\n",
    "    model_spec: dict\n",
    "        Dict containing keys: arch, activation, dropout, optimizer, loss,\n",
    "            w_reg, metrics\n",
    "    input_dim: int\n",
    "        Size of input dimension\n",
    "    output_dim: int\n",
    "        Size of input dimension\n",
    "\n",
    "    Returns\n",
    "    -------\n",
    "    model: Compiled keras.models.Sequential\n",
    "\n",
    "    \"\"\"\n",
    "\n",
    "    model = Sequential()\n",
    "\n",
    "    for li, layer_size in enumerate(layers):\n",
    "        # For input layer, add input dimension\n",
    "        if li == 0:\n",
    "            temp_input_dim = input_dim\n",
    "            model.add(Dense(layer_size,\n",
    "                            input_dim=temp_input_dim,\n",
    "                            activation=activation,\n",
    "                            bias_initializer=b_init,\n",
    "                            kernel_initializer=k_init,\n",
    "                            name='Input'))\n",
    "        elif li < len(layers)-1:\n",
    "            model.add(Dense(layer_size,\n",
    "                            activation=activation,\n",
    "                            bias_initializer=b_init,\n",
    "                            kernel_initializer=k_init,\n",
    "                            name='Layer_%i' % li))\n",
    "        elif li == len(layers)-1:\n",
    "            model.add(Dense( output_dim ,\n",
    "                            activation=None,\n",
    "                            bias_initializer=b_init,\n",
    "                            kernel_initializer=k_init,\n",
    "                            name='Layer_%i' % li))\n",
    "            \n",
    "        if dropout > 0.:\n",
    "            model.add(Dropout(dropout, name='Dropout_%i' % li))\n",
    "        if a_dropout > 0.:\n",
    "            model.add(Dropout(a_dropout, name='Dropout_%i' % li))\n",
    "    model.compile(optimizer=optimizer,\n",
    "                  loss=loss,\n",
    "                  metrics=[metrics])\n",
    "    #keras.callbacks.TensorBoard(log_dir='./logs', histogram_freq=0, save_best_only=True, \\\n",
    "    #                                write_graph=True, write_images=False)\n",
    "    return model \n",
    "model_no_act = KerasClassifier(build_fn=construct_model_no_act, epochs=100, batch_size=32,\\\n",
    "                       verbose=0)"
   ]
  },
  {
   "cell_type": "code",
   "execution_count": 6,
   "metadata": {
    "collapsed": false
   },
   "outputs": [
    {
     "name": "stderr",
     "output_type": "stream",
     "text": [
      "C:\\Users\\Snir\\Anaconda3\\lib\\site-packages\\sklearn\\cross_validation.py:41: DeprecationWarning: This module was deprecated in version 0.18 in favor of the model_selection module into which all the refactored classes and functions are moved. Also note that the interface of the new CV iterators are different from that of this module. This module will be removed in 0.20.\n",
      "  \"This module will be removed in 0.20.\", DeprecationWarning)\n",
      "C:\\Users\\Snir\\Anaconda3\\lib\\site-packages\\sklearn\\grid_search.py:42: DeprecationWarning: This module was deprecated in version 0.18 in favor of the model_selection module into which all the refactored classes and functions are moved. This module will be removed in 0.20.\n",
      "  DeprecationWarning)\n"
     ]
    }
   ],
   "source": [
    "#custom scoring function sklearn\n",
    "from sklearn.grid_search import GridSearchCV\n",
    "from sklearn.metrics.scorer import make_scorer\n",
    "from sklearn.metrics import roc_auc_score\n",
    "import numpy as np\n",
    "import pandas as pd\n",
    "def lift_index(y, probabilities):\n",
    "    #rearrange probabilities and y in descending order\n",
    "    probabilities = [val[0] for val in probabilities]\n",
    "    print(probabilities)\n",
    "    combine = list(zip(y, probabilities))\n",
    "    dtype = [('data', int), ('prob', float)]\n",
    "    combine = np.array(combine,dtype=dtype)\n",
    "    combine = np.sort(combine, order='prob') #sort according to probabilities\n",
    "    ordered = np.sort(probabilities) #sort probabilities\n",
    "    #divide into deciles\n",
    "    deciles = pd.qcut(ordered, 10, duplicates='drop', labels=False) #creates array of digits from 1 to 10\n",
    "    #sum of positive in each decile-if negative then zero and doesn't get taken into account\n",
    "    sum_deciles = sum([((val+1)/10)*combine[num][0] for num, val in enumerate(deciles)])\n",
    "    return sum_deciles/sum(y)\n",
    "lift_index_score = make_scorer(lift_index, greater_is_better=True, needs_proba=True )\n",
    "    "
   ]
  },
  {
   "cell_type": "code",
   "execution_count": 7,
   "metadata": {
    "collapsed": false
   },
   "outputs": [
    {
     "data": {
      "text/plain": [
       "array([0, 0, 1, 1, 1, 1, 1, 2, 3, 3, 4, 4, 4, 5, 5, 6, 6, 7, 7, 8],\n",
       "      dtype=int64)"
      ]
     },
     "execution_count": 7,
     "metadata": {},
     "output_type": "execute_result"
    }
   ],
   "source": [
    "y=[0,0,0,0,0,0,1,0,0,0,1,0,1,0,1,0,1,0,1,1]\n",
    "probabilities = [0.6, 0.7,0.8,0.1,0.2,0.4,0.6,0.7,0.8,0.03,0.2, 0.4,0.2,0.9,0.2,0.75,0.243,0.5,0.75,0.03]\n",
    "combine = list(zip(y, probabilities))\n",
    "dtype = [('data', int), ('prob', float)]\n",
    "combine = np.array(combine,dtype=dtype)\n",
    "combine = np.sort(combine, order='prob') #sort according to probabilities\n",
    "ordered = np.sort(probabilities) #sort probabilities\n",
    "#divide into deciles\n",
    "deciles = pd.qcut(ordered, 10, duplicates='drop',labels=False) #creates array of digits from 1 to 10\n",
    "sum_deciles = sum([((val+1)/10)*combine[num][0] for num, val in enumerate(deciles)])\n",
    "deciles"
   ]
  },
  {
   "cell_type": "code",
   "execution_count": 8,
   "metadata": {
    "collapsed": true
   },
   "outputs": [],
   "source": [
    "def plot_history(history):\n",
    "    loss_list = [s for s in history.history.keys() if 'loss' in s and 'val' not in s]\n",
    "    val_loss_list = [s for s in history.history.keys() if 'loss' in s and 'val' in s]\n",
    "    acc_list = [s for s in history.history.keys() if 'acc' in s and 'val' not in s]\n",
    "    val_acc_list = [s for s in history.history.keys() if 'acc' in s and 'val' in s]\n",
    "    \n",
    "    if len(loss_list) == 0:\n",
    "        print('Loss is missing in history')\n",
    "        return \n",
    "    \n",
    "    ## As loss always exists\n",
    "    epochs = range(1,len(history.history[loss_list[0]]) + 1)\n",
    "    \n",
    "    ## Loss\n",
    "    plt.figure(1)\n",
    "    for l in loss_list:\n",
    "        plt.plot(epochs, history.history[l], 'b', label='Training loss (' + str(str(format(history.history[l][-1],'.5f'))+')'))\n",
    "    for l in val_loss_list:\n",
    "        plt.plot(epochs, history.history[l], 'g', label='Validation loss (' + str(str(format(history.history[l][-1],'.5f'))+')'))\n",
    "    \n",
    "    plt.title('Loss')\n",
    "    plt.xlabel('Epochs')\n",
    "    plt.ylabel('Loss')\n",
    "    plt.legend()\n",
    "    \n",
    "    ## Accuracy\n",
    "    plt.figure(2)\n",
    "    for l in acc_list:\n",
    "        plt.plot(epochs, history.history[l], 'b', label='Training accuracy (' + str(format(history.history[l][-1],'.5f'))+')')\n",
    "    for l in val_acc_list:    \n",
    "        plt.plot(epochs, history.history[l], 'g', label='Validation accuracy (' + str(format(history.history[l][-1],'.5f'))+')')\n",
    "\n",
    "    plt.title('Accuracy')\n",
    "    plt.xlabel('Epochs')\n",
    "    plt.ylabel('Accuracy')\n",
    "    plt.legend()\n",
    "    plt.show()"
   ]
  },
  {
   "cell_type": "code",
   "execution_count": 9,
   "metadata": {
    "collapsed": false
   },
   "outputs": [],
   "source": [
    "import matplotlib.pyplot as plt\n",
    "from matplotlib import cm\n",
    "\n",
    "def plot_confusion_matrix(cm, classes,\n",
    "                          normalize=False,\n",
    "                          cmap=plt.cm.Blues):\n",
    "    \"\"\"\n",
    "    This function prints and plots the confusion matrix.\n",
    "    Normalization can be applied by setting `normalize=True`.\n",
    "    \"\"\"\n",
    "    if normalize:\n",
    "        cm = cm.astype('float') / cm.sum(axis=1)[:, np.newaxis]\n",
    "        title='Normalized confusion matrix'\n",
    "    else:\n",
    "        title='Confusion matrix'\n",
    "\n",
    "    plt.imshow(cm, interpolation='nearest', cmap=cmap)\n",
    "    plt.title(title)\n",
    "    plt.colorbar()\n",
    "    tick_marks = np.arange(len(classes))\n",
    "    plt.xticks(tick_marks, classes, rotation=45)\n",
    "    plt.yticks(tick_marks, classes)\n",
    "\n",
    "    fmt = '.2f' if normalize else 'd'\n",
    "    thresh = cm.max() / 2.\n",
    "    for i, j in itertools.product(range(cm.shape[0]), range(cm.shape[1])):\n",
    "        plt.text(j, i, format(cm[i, j], fmt),\n",
    "                 horizontalalignment=\"center\",\n",
    "                 color=\"white\" if cm[i, j] > thresh else \"black\")\n",
    "\n",
    "    plt.tight_layout()\n",
    "    plt.ylabel('True label')\n",
    "    plt.xlabel('Predicted label')\n",
    "    plt.show()"
   ]
  },
  {
   "cell_type": "code",
   "execution_count": null,
   "metadata": {
    "collapsed": true
   },
   "outputs": [],
   "source": [
    "def plot_many_score(results, scoring):\n",
    "    \"\"\"\n",
    "    This function prints and plots a graph conditioned on some variable that shows progress in accuracy.\n",
    "    results is the cv_results_ attribute after calling gs callable.\n",
    "    scoring is dict of scoring functions.\n",
    "    \"\"\"\n",
    "    plt.figure(figsize=(13, 13))\n",
    "    plt.title(\"GridSearchCV evaluating using multiple scorers simultaneously\",\n",
    "              fontsize=16)\n",
    "    \n",
    "    plt.xlabel(\"min_samples_split\")\n",
    "    plt.ylabel(\"Score\")\n",
    "    plt.grid()\n",
    "    \n",
    "    ax = plt.axes()\n",
    "    ax.set_xlim(0, 402)\n",
    "    ax.set_ylim(0.73, 1)\n",
    "    \n",
    "    # Get the regular numpy array from the MaskedArray\n",
    "    X_axis = np.array(results['param_min_samples_split'].data, dtype=float)\n",
    "    \n",
    "    for scorer, color in zip(sorted(scoring), ['g', 'k']):\n",
    "        for sample, style in (('train', '--'), ('test', '-')):\n",
    "            sample_score_mean = results['mean_%s_%s' % (sample, scorer)]\n",
    "            sample_score_std = results['std_%s_%s' % (sample, scorer)]\n",
    "            ax.fill_between(X_axis, sample_score_mean - sample_score_std,\n",
    "                            sample_score_mean + sample_score_std,\n",
    "                            alpha=0.1 if sample == 'test' else 0, color=color)\n",
    "            ax.plot(X_axis, sample_score_mean, style, color=color,\n",
    "                    alpha=1 if sample == 'test' else 0.7,\n",
    "                    label=\"%s (%s)\" % (scorer, sample))\n",
    "    \n",
    "        best_index = np.nonzero(results['rank_test_%s' % scorer] == 1)[0][0]\n",
    "        best_score = results['mean_test_%s' % scorer][best_index]\n",
    "    \n",
    "        # Plot a dotted vertical line at the best score for that scorer marked by x\n",
    "        ax.plot([X_axis[best_index], ] * 2, [0, best_score],\n",
    "                linestyle='-.', color=color, marker='x', markeredgewidth=3, ms=8)\n",
    "    \n",
    "        # Annotate the best score for that scorer\n",
    "        ax.annotate(\"%0.2f\" % best_score,\n",
    "                    (X_axis[best_index], best_score + 0.005))\n",
    "    \n",
    "    plt.legend(loc=\"best\")\n",
    "    plt.grid('off')\n",
    "    plt.show()"
   ]
  },
  {
   "cell_type": "code",
   "execution_count": 10,
   "metadata": {
    "collapsed": false
   },
   "outputs": [
    {
     "name": "stdout",
     "output_type": "stream",
     "text": [
      "Fitting 3 folds for each of 432 candidates, totalling 1296 fits\n",
      "[CV] a_dropout=0.0, activation=relu, b_init=lecun_normal, batch_size=128, dropout=0.0, epochs=10, k_init=lecun_normal, layers=[100, 100], metrics=accuracy, optimizer=rmsprop \n",
      "[CV]  a_dropout=0.0, activation=relu, b_init=lecun_normal, batch_size=128, dropout=0.0, epochs=10, k_init=lecun_normal, layers=[100, 100], metrics=accuracy, optimizer=rmsprop, score=0.09999999999999615, total=   8.5s\n",
      "[CV] a_dropout=0.0, activation=relu, b_init=lecun_normal, batch_size=128, dropout=0.0, epochs=10, k_init=lecun_normal, layers=[100, 100], metrics=accuracy, optimizer=rmsprop \n"
     ]
    },
    {
     "name": "stderr",
     "output_type": "stream",
     "text": [
      "[Parallel(n_jobs=1)]: Done   1 out of   1 | elapsed:    8.9s remaining:    0.0s\n"
     ]
    },
    {
     "name": "stdout",
     "output_type": "stream",
     "text": [
      "[CV]  a_dropout=0.0, activation=relu, b_init=lecun_normal, batch_size=128, dropout=0.0, epochs=10, k_init=lecun_normal, layers=[100, 100], metrics=accuracy, optimizer=rmsprop, score=0.09999999999999618, total=   7.4s\n",
      "[CV] a_dropout=0.0, activation=relu, b_init=lecun_normal, batch_size=128, dropout=0.0, epochs=10, k_init=lecun_normal, layers=[100, 100], metrics=accuracy, optimizer=rmsprop \n"
     ]
    },
    {
     "name": "stderr",
     "output_type": "stream",
     "text": [
      "[Parallel(n_jobs=1)]: Done   2 out of   2 | elapsed:   16.9s remaining:    0.0s\n"
     ]
    },
    {
     "name": "stdout",
     "output_type": "stream",
     "text": [
      "[CV]  a_dropout=0.0, activation=relu, b_init=lecun_normal, batch_size=128, dropout=0.0, epochs=10, k_init=lecun_normal, layers=[100, 100], metrics=accuracy, optimizer=rmsprop, score=0.09999999999999615, total=   7.4s\n",
      "[CV] a_dropout=0.0, activation=relu, b_init=lecun_normal, batch_size=128, dropout=0.0, epochs=10, k_init=lecun_normal, layers=[100, 100], metrics=accuracy, optimizer=adam \n"
     ]
    },
    {
     "name": "stderr",
     "output_type": "stream",
     "text": [
      "[Parallel(n_jobs=1)]: Done   3 out of   3 | elapsed:   24.8s remaining:    0.0s\n"
     ]
    },
    {
     "name": "stdout",
     "output_type": "stream",
     "text": [
      "[CV]  a_dropout=0.0, activation=relu, b_init=lecun_normal, batch_size=128, dropout=0.0, epochs=10, k_init=lecun_normal, layers=[100, 100], metrics=accuracy, optimizer=adam, score=0.09999999999999615, total=   7.9s\n",
      "[CV] a_dropout=0.0, activation=relu, b_init=lecun_normal, batch_size=128, dropout=0.0, epochs=10, k_init=lecun_normal, layers=[100, 100], metrics=accuracy, optimizer=adam \n"
     ]
    },
    {
     "name": "stderr",
     "output_type": "stream",
     "text": [
      "[Parallel(n_jobs=1)]: Done   4 out of   4 | elapsed:   33.3s remaining:    0.0s\n"
     ]
    },
    {
     "name": "stdout",
     "output_type": "stream",
     "text": [
      "[CV]  a_dropout=0.0, activation=relu, b_init=lecun_normal, batch_size=128, dropout=0.0, epochs=10, k_init=lecun_normal, layers=[100, 100], metrics=accuracy, optimizer=adam, score=0.09999999999999618, total=   8.0s\n",
      "[CV] a_dropout=0.0, activation=relu, b_init=lecun_normal, batch_size=128, dropout=0.0, epochs=10, k_init=lecun_normal, layers=[100, 100], metrics=accuracy, optimizer=adam \n"
     ]
    },
    {
     "name": "stderr",
     "output_type": "stream",
     "text": [
      "[Parallel(n_jobs=1)]: Done   5 out of   5 | elapsed:   41.9s remaining:    0.0s\n"
     ]
    },
    {
     "name": "stdout",
     "output_type": "stream",
     "text": [
      "[CV]  a_dropout=0.0, activation=relu, b_init=lecun_normal, batch_size=128, dropout=0.0, epochs=10, k_init=lecun_normal, layers=[100, 100], metrics=accuracy, optimizer=adam, score=0.09999999999999615, total=   8.3s\n",
      "[CV] a_dropout=0.0, activation=relu, b_init=lecun_normal, batch_size=128, dropout=0.0, epochs=10, k_init=lecun_normal, layers=[100, 100, 100], metrics=accuracy, optimizer=rmsprop \n"
     ]
    },
    {
     "name": "stderr",
     "output_type": "stream",
     "text": [
      "[Parallel(n_jobs=1)]: Done   6 out of   6 | elapsed:   50.8s remaining:    0.0s\n"
     ]
    },
    {
     "name": "stdout",
     "output_type": "stream",
     "text": [
      "[CV]  a_dropout=0.0, activation=relu, b_init=lecun_normal, batch_size=128, dropout=0.0, epochs=10, k_init=lecun_normal, layers=[100, 100, 100], metrics=accuracy, optimizer=rmsprop, score=0.09999999999999615, total=  11.5s\n",
      "[CV] a_dropout=0.0, activation=relu, b_init=lecun_normal, batch_size=128, dropout=0.0, epochs=10, k_init=lecun_normal, layers=[100, 100, 100], metrics=accuracy, optimizer=rmsprop \n"
     ]
    },
    {
     "name": "stderr",
     "output_type": "stream",
     "text": [
      "[Parallel(n_jobs=1)]: Done   7 out of   7 | elapsed:  1.1min remaining:    0.0s\n"
     ]
    },
    {
     "name": "stdout",
     "output_type": "stream",
     "text": [
      "[CV]  a_dropout=0.0, activation=relu, b_init=lecun_normal, batch_size=128, dropout=0.0, epochs=10, k_init=lecun_normal, layers=[100, 100, 100], metrics=accuracy, optimizer=rmsprop, score=0.09999999999999618, total=  13.1s\n",
      "[CV] a_dropout=0.0, activation=relu, b_init=lecun_normal, batch_size=128, dropout=0.0, epochs=10, k_init=lecun_normal, layers=[100, 100, 100], metrics=accuracy, optimizer=rmsprop \n"
     ]
    },
    {
     "name": "stderr",
     "output_type": "stream",
     "text": [
      "[Parallel(n_jobs=1)]: Done   8 out of   8 | elapsed:  1.3min remaining:    0.0s\n"
     ]
    },
    {
     "name": "stdout",
     "output_type": "stream",
     "text": [
      "[CV]  a_dropout=0.0, activation=relu, b_init=lecun_normal, batch_size=128, dropout=0.0, epochs=10, k_init=lecun_normal, layers=[100, 100, 100], metrics=accuracy, optimizer=rmsprop, score=0.09999999999999615, total=  13.8s\n",
      "[CV] a_dropout=0.0, activation=relu, b_init=lecun_normal, batch_size=128, dropout=0.0, epochs=10, k_init=lecun_normal, layers=[100, 100, 100], metrics=accuracy, optimizer=adam \n"
     ]
    },
    {
     "name": "stderr",
     "output_type": "stream",
     "text": [
      "[Parallel(n_jobs=1)]: Done   9 out of   9 | elapsed:  1.5min remaining:    0.0s\n"
     ]
    },
    {
     "name": "stdout",
     "output_type": "stream",
     "text": [
      "[CV]  a_dropout=0.0, activation=relu, b_init=lecun_normal, batch_size=128, dropout=0.0, epochs=10, k_init=lecun_normal, layers=[100, 100, 100], metrics=accuracy, optimizer=adam, score=0.09999999999999615, total=  12.4s\n",
      "[CV] a_dropout=0.0, activation=relu, b_init=lecun_normal, batch_size=128, dropout=0.0, epochs=10, k_init=lecun_normal, layers=[100, 100, 100], metrics=accuracy, optimizer=adam \n"
     ]
    },
    {
     "name": "stderr",
     "output_type": "stream",
     "text": [
      "[Parallel(n_jobs=1)]: Done  10 out of  10 | elapsed:  1.7min remaining:    0.0s\n"
     ]
    },
    {
     "name": "stdout",
     "output_type": "stream",
     "text": [
      "[CV]  a_dropout=0.0, activation=relu, b_init=lecun_normal, batch_size=128, dropout=0.0, epochs=10, k_init=lecun_normal, layers=[100, 100, 100], metrics=accuracy, optimizer=adam, score=0.09999999999999618, total=  12.4s\n",
      "[CV] a_dropout=0.0, activation=relu, b_init=lecun_normal, batch_size=128, dropout=0.0, epochs=10, k_init=lecun_normal, layers=[100, 100, 100], metrics=accuracy, optimizer=adam \n"
     ]
    },
    {
     "name": "stderr",
     "output_type": "stream",
     "text": [
      "[Parallel(n_jobs=1)]: Done  11 out of  11 | elapsed:  2.0min remaining:    0.0s\n"
     ]
    },
    {
     "name": "stdout",
     "output_type": "stream",
     "text": [
      "[CV]  a_dropout=0.0, activation=relu, b_init=lecun_normal, batch_size=128, dropout=0.0, epochs=10, k_init=lecun_normal, layers=[100, 100, 100], metrics=accuracy, optimizer=adam, score=0.09999999999999615, total=  13.4s\n",
      "[CV] a_dropout=0.0, activation=relu, b_init=lecun_normal, batch_size=128, dropout=0.0, epochs=10, k_init=lecun_normal, layers=[50, 50, 50, 50], metrics=accuracy, optimizer=rmsprop \n"
     ]
    },
    {
     "name": "stderr",
     "output_type": "stream",
     "text": [
      "[Parallel(n_jobs=1)]: Done  12 out of  12 | elapsed:  2.2min remaining:    0.0s\n"
     ]
    },
    {
     "name": "stdout",
     "output_type": "stream",
     "text": [
      "[CV]  a_dropout=0.0, activation=relu, b_init=lecun_normal, batch_size=128, dropout=0.0, epochs=10, k_init=lecun_normal, layers=[50, 50, 50, 50], metrics=accuracy, optimizer=rmsprop, score=0.09999999999999615, total=  11.0s\n",
      "[CV] a_dropout=0.0, activation=relu, b_init=lecun_normal, batch_size=128, dropout=0.0, epochs=10, k_init=lecun_normal, layers=[50, 50, 50, 50], metrics=accuracy, optimizer=rmsprop \n"
     ]
    },
    {
     "name": "stderr",
     "output_type": "stream",
     "text": [
      "[Parallel(n_jobs=1)]: Done  13 out of  13 | elapsed:  2.4min remaining:    0.0s\n"
     ]
    },
    {
     "name": "stdout",
     "output_type": "stream",
     "text": [
      "[CV]  a_dropout=0.0, activation=relu, b_init=lecun_normal, batch_size=128, dropout=0.0, epochs=10, k_init=lecun_normal, layers=[50, 50, 50, 50], metrics=accuracy, optimizer=rmsprop, score=0.09999999999999618, total=  10.3s\n",
      "[CV] a_dropout=0.0, activation=relu, b_init=lecun_normal, batch_size=128, dropout=0.0, epochs=10, k_init=lecun_normal, layers=[50, 50, 50, 50], metrics=accuracy, optimizer=rmsprop \n"
     ]
    },
    {
     "name": "stderr",
     "output_type": "stream",
     "text": [
      "[Parallel(n_jobs=1)]: Done  14 out of  14 | elapsed:  2.6min remaining:    0.0s\n"
     ]
    },
    {
     "name": "stdout",
     "output_type": "stream",
     "text": [
      "[CV]  a_dropout=0.0, activation=relu, b_init=lecun_normal, batch_size=128, dropout=0.0, epochs=10, k_init=lecun_normal, layers=[50, 50, 50, 50], metrics=accuracy, optimizer=rmsprop, score=0.09999999999999615, total=  10.2s\n",
      "[CV] a_dropout=0.0, activation=relu, b_init=lecun_normal, batch_size=128, dropout=0.0, epochs=10, k_init=lecun_normal, layers=[50, 50, 50, 50], metrics=accuracy, optimizer=adam \n",
      "[CV]  a_dropout=0.0, activation=relu, b_init=lecun_normal, batch_size=128, dropout=0.0, epochs=10, k_init=lecun_normal, layers=[50, 50, 50, 50], metrics=accuracy, optimizer=adam, score=0.09999999999999615, total=  12.4s\n",
      "[CV] a_dropout=0.0, activation=relu, b_init=lecun_normal, batch_size=128, dropout=0.0, epochs=10, k_init=lecun_normal, layers=[50, 50, 50, 50], metrics=accuracy, optimizer=adam \n",
      "[CV]  a_dropout=0.0, activation=relu, b_init=lecun_normal, batch_size=128, dropout=0.0, epochs=10, k_init=lecun_normal, layers=[50, 50, 50, 50], metrics=accuracy, optimizer=adam, score=0.09999999999999618, total=  11.5s\n",
      "[CV] a_dropout=0.0, activation=relu, b_init=lecun_normal, batch_size=128, dropout=0.0, epochs=10, k_init=lecun_normal, layers=[50, 50, 50, 50], metrics=accuracy, optimizer=adam \n",
      "[CV]  a_dropout=0.0, activation=relu, b_init=lecun_normal, batch_size=128, dropout=0.0, epochs=10, k_init=lecun_normal, layers=[50, 50, 50, 50], metrics=accuracy, optimizer=adam, score=0.09999999999999615, total=  12.9s\n",
      "[CV] a_dropout=0.0, activation=relu, b_init=lecun_normal, batch_size=128, dropout=0.0, epochs=50, k_init=lecun_normal, layers=[100, 100], metrics=accuracy, optimizer=rmsprop \n",
      "[CV]  a_dropout=0.0, activation=relu, b_init=lecun_normal, batch_size=128, dropout=0.0, epochs=50, k_init=lecun_normal, layers=[100, 100], metrics=accuracy, optimizer=rmsprop, score=0.09999999999999615, total=  42.4s\n",
      "[CV] a_dropout=0.0, activation=relu, b_init=lecun_normal, batch_size=128, dropout=0.0, epochs=50, k_init=lecun_normal, layers=[100, 100], metrics=accuracy, optimizer=rmsprop \n",
      "[CV]  a_dropout=0.0, activation=relu, b_init=lecun_normal, batch_size=128, dropout=0.0, epochs=50, k_init=lecun_normal, layers=[100, 100], metrics=accuracy, optimizer=rmsprop, score=0.09999999999999618, total=  43.3s\n",
      "[CV] a_dropout=0.0, activation=relu, b_init=lecun_normal, batch_size=128, dropout=0.0, epochs=50, k_init=lecun_normal, layers=[100, 100], metrics=accuracy, optimizer=rmsprop \n",
      "[CV]  a_dropout=0.0, activation=relu, b_init=lecun_normal, batch_size=128, dropout=0.0, epochs=50, k_init=lecun_normal, layers=[100, 100], metrics=accuracy, optimizer=rmsprop, score=0.09999999999999615, total=  41.3s\n",
      "[CV] a_dropout=0.0, activation=relu, b_init=lecun_normal, batch_size=128, dropout=0.0, epochs=50, k_init=lecun_normal, layers=[100, 100], metrics=accuracy, optimizer=adam \n",
      "[CV]  a_dropout=0.0, activation=relu, b_init=lecun_normal, batch_size=128, dropout=0.0, epochs=50, k_init=lecun_normal, layers=[100, 100], metrics=accuracy, optimizer=adam, score=0.09999999999999615, total=  43.8s\n",
      "[CV] a_dropout=0.0, activation=relu, b_init=lecun_normal, batch_size=128, dropout=0.0, epochs=50, k_init=lecun_normal, layers=[100, 100], metrics=accuracy, optimizer=adam \n",
      "[CV]  a_dropout=0.0, activation=relu, b_init=lecun_normal, batch_size=128, dropout=0.0, epochs=50, k_init=lecun_normal, layers=[100, 100], metrics=accuracy, optimizer=adam, score=0.09999999999999618, total=  47.3s\n",
      "[CV] a_dropout=0.0, activation=relu, b_init=lecun_normal, batch_size=128, dropout=0.0, epochs=50, k_init=lecun_normal, layers=[100, 100], metrics=accuracy, optimizer=adam \n",
      "[CV]  a_dropout=0.0, activation=relu, b_init=lecun_normal, batch_size=128, dropout=0.0, epochs=50, k_init=lecun_normal, layers=[100, 100], metrics=accuracy, optimizer=adam, score=0.09999999999999615, total=  43.3s\n",
      "[CV] a_dropout=0.0, activation=relu, b_init=lecun_normal, batch_size=128, dropout=0.0, epochs=50, k_init=lecun_normal, layers=[100, 100, 100], metrics=accuracy, optimizer=rmsprop \n",
      "[CV]  a_dropout=0.0, activation=relu, b_init=lecun_normal, batch_size=128, dropout=0.0, epochs=50, k_init=lecun_normal, layers=[100, 100, 100], metrics=accuracy, optimizer=rmsprop, score=0.09999999999999615, total= 1.0min\n",
      "[CV] a_dropout=0.0, activation=relu, b_init=lecun_normal, batch_size=128, dropout=0.0, epochs=50, k_init=lecun_normal, layers=[100, 100, 100], metrics=accuracy, optimizer=rmsprop \n",
      "[CV]  a_dropout=0.0, activation=relu, b_init=lecun_normal, batch_size=128, dropout=0.0, epochs=50, k_init=lecun_normal, layers=[100, 100, 100], metrics=accuracy, optimizer=rmsprop, score=0.09999999999999618, total=  60.0s\n",
      "[CV] a_dropout=0.0, activation=relu, b_init=lecun_normal, batch_size=128, dropout=0.0, epochs=50, k_init=lecun_normal, layers=[100, 100, 100], metrics=accuracy, optimizer=rmsprop \n",
      "[CV]  a_dropout=0.0, activation=relu, b_init=lecun_normal, batch_size=128, dropout=0.0, epochs=50, k_init=lecun_normal, layers=[100, 100, 100], metrics=accuracy, optimizer=rmsprop, score=0.09999999999999615, total= 1.1min\n",
      "[CV] a_dropout=0.0, activation=relu, b_init=lecun_normal, batch_size=128, dropout=0.0, epochs=50, k_init=lecun_normal, layers=[100, 100, 100], metrics=accuracy, optimizer=adam \n",
      "[CV]  a_dropout=0.0, activation=relu, b_init=lecun_normal, batch_size=128, dropout=0.0, epochs=50, k_init=lecun_normal, layers=[100, 100, 100], metrics=accuracy, optimizer=adam, score=0.09999999999999615, total= 1.1min\n",
      "[CV] a_dropout=0.0, activation=relu, b_init=lecun_normal, batch_size=128, dropout=0.0, epochs=50, k_init=lecun_normal, layers=[100, 100, 100], metrics=accuracy, optimizer=adam \n",
      "[CV]  a_dropout=0.0, activation=relu, b_init=lecun_normal, batch_size=128, dropout=0.0, epochs=50, k_init=lecun_normal, layers=[100, 100, 100], metrics=accuracy, optimizer=adam, score=0.09999999999999618, total= 1.1min\n",
      "[CV] a_dropout=0.0, activation=relu, b_init=lecun_normal, batch_size=128, dropout=0.0, epochs=50, k_init=lecun_normal, layers=[100, 100, 100], metrics=accuracy, optimizer=adam \n",
      "[CV]  a_dropout=0.0, activation=relu, b_init=lecun_normal, batch_size=128, dropout=0.0, epochs=50, k_init=lecun_normal, layers=[100, 100, 100], metrics=accuracy, optimizer=adam, score=0.09999999999999615, total= 1.1min\n",
      "[CV] a_dropout=0.0, activation=relu, b_init=lecun_normal, batch_size=128, dropout=0.0, epochs=50, k_init=lecun_normal, layers=[50, 50, 50, 50], metrics=accuracy, optimizer=rmsprop \n",
      "[CV]  a_dropout=0.0, activation=relu, b_init=lecun_normal, batch_size=128, dropout=0.0, epochs=50, k_init=lecun_normal, layers=[50, 50, 50, 50], metrics=accuracy, optimizer=rmsprop, score=0.09999999999999615, total=  49.1s\n",
      "[CV] a_dropout=0.0, activation=relu, b_init=lecun_normal, batch_size=128, dropout=0.0, epochs=50, k_init=lecun_normal, layers=[50, 50, 50, 50], metrics=accuracy, optimizer=rmsprop \n",
      "[CV]  a_dropout=0.0, activation=relu, b_init=lecun_normal, batch_size=128, dropout=0.0, epochs=50, k_init=lecun_normal, layers=[50, 50, 50, 50], metrics=accuracy, optimizer=rmsprop, score=0.09999999999999618, total=  49.3s\n",
      "[CV] a_dropout=0.0, activation=relu, b_init=lecun_normal, batch_size=128, dropout=0.0, epochs=50, k_init=lecun_normal, layers=[50, 50, 50, 50], metrics=accuracy, optimizer=rmsprop \n",
      "[CV]  a_dropout=0.0, activation=relu, b_init=lecun_normal, batch_size=128, dropout=0.0, epochs=50, k_init=lecun_normal, layers=[50, 50, 50, 50], metrics=accuracy, optimizer=rmsprop, score=0.09999999999999615, total=  49.5s\n",
      "[CV] a_dropout=0.0, activation=relu, b_init=lecun_normal, batch_size=128, dropout=0.0, epochs=50, k_init=lecun_normal, layers=[50, 50, 50, 50], metrics=accuracy, optimizer=adam \n",
      "[CV]  a_dropout=0.0, activation=relu, b_init=lecun_normal, batch_size=128, dropout=0.0, epochs=50, k_init=lecun_normal, layers=[50, 50, 50, 50], metrics=accuracy, optimizer=adam, score=0.09999999999999615, total=  52.1s\n",
      "[CV] a_dropout=0.0, activation=relu, b_init=lecun_normal, batch_size=128, dropout=0.0, epochs=50, k_init=lecun_normal, layers=[50, 50, 50, 50], metrics=accuracy, optimizer=adam \n",
      "[CV]  a_dropout=0.0, activation=relu, b_init=lecun_normal, batch_size=128, dropout=0.0, epochs=50, k_init=lecun_normal, layers=[50, 50, 50, 50], metrics=accuracy, optimizer=adam, score=0.09999999999999618, total=  54.0s\n",
      "[CV] a_dropout=0.0, activation=relu, b_init=lecun_normal, batch_size=128, dropout=0.0, epochs=50, k_init=lecun_normal, layers=[50, 50, 50, 50], metrics=accuracy, optimizer=adam \n",
      "[CV]  a_dropout=0.0, activation=relu, b_init=lecun_normal, batch_size=128, dropout=0.0, epochs=50, k_init=lecun_normal, layers=[50, 50, 50, 50], metrics=accuracy, optimizer=adam, score=0.09999999999999615, total=  53.3s\n",
      "[CV] a_dropout=0.0, activation=relu, b_init=lecun_normal, batch_size=128, dropout=0.0, epochs=100, k_init=lecun_normal, layers=[100, 100], metrics=accuracy, optimizer=rmsprop \n",
      "[CV]  a_dropout=0.0, activation=relu, b_init=lecun_normal, batch_size=128, dropout=0.0, epochs=100, k_init=lecun_normal, layers=[100, 100], metrics=accuracy, optimizer=rmsprop, score=0.09999999999999615, total= 1.5min\n",
      "[CV] a_dropout=0.0, activation=relu, b_init=lecun_normal, batch_size=128, dropout=0.0, epochs=100, k_init=lecun_normal, layers=[100, 100], metrics=accuracy, optimizer=rmsprop \n",
      "[CV]  a_dropout=0.0, activation=relu, b_init=lecun_normal, batch_size=128, dropout=0.0, epochs=100, k_init=lecun_normal, layers=[100, 100], metrics=accuracy, optimizer=rmsprop, score=0.09999999999999618, total= 1.5min\n",
      "[CV] a_dropout=0.0, activation=relu, b_init=lecun_normal, batch_size=128, dropout=0.0, epochs=100, k_init=lecun_normal, layers=[100, 100], metrics=accuracy, optimizer=rmsprop \n",
      "[CV]  a_dropout=0.0, activation=relu, b_init=lecun_normal, batch_size=128, dropout=0.0, epochs=100, k_init=lecun_normal, layers=[100, 100], metrics=accuracy, optimizer=rmsprop, score=0.09999999999999615, total= 1.5min\n",
      "[CV] a_dropout=0.0, activation=relu, b_init=lecun_normal, batch_size=128, dropout=0.0, epochs=100, k_init=lecun_normal, layers=[100, 100], metrics=accuracy, optimizer=adam \n",
      "[CV]  a_dropout=0.0, activation=relu, b_init=lecun_normal, batch_size=128, dropout=0.0, epochs=100, k_init=lecun_normal, layers=[100, 100], metrics=accuracy, optimizer=adam, score=0.09999999999999615, total= 1.5min\n",
      "[CV] a_dropout=0.0, activation=relu, b_init=lecun_normal, batch_size=128, dropout=0.0, epochs=100, k_init=lecun_normal, layers=[100, 100], metrics=accuracy, optimizer=adam \n",
      "[CV]  a_dropout=0.0, activation=relu, b_init=lecun_normal, batch_size=128, dropout=0.0, epochs=100, k_init=lecun_normal, layers=[100, 100], metrics=accuracy, optimizer=adam, score=0.09999999999999618, total= 1.6min\n",
      "[CV] a_dropout=0.0, activation=relu, b_init=lecun_normal, batch_size=128, dropout=0.0, epochs=100, k_init=lecun_normal, layers=[100, 100], metrics=accuracy, optimizer=adam \n",
      "[CV]  a_dropout=0.0, activation=relu, b_init=lecun_normal, batch_size=128, dropout=0.0, epochs=100, k_init=lecun_normal, layers=[100, 100], metrics=accuracy, optimizer=adam, score=0.09999999999999615, total= 1.6min\n",
      "[CV] a_dropout=0.0, activation=relu, b_init=lecun_normal, batch_size=128, dropout=0.0, epochs=100, k_init=lecun_normal, layers=[100, 100, 100], metrics=accuracy, optimizer=rmsprop \n",
      "[CV]  a_dropout=0.0, activation=relu, b_init=lecun_normal, batch_size=128, dropout=0.0, epochs=100, k_init=lecun_normal, layers=[100, 100, 100], metrics=accuracy, optimizer=rmsprop, score=0.09999999999999615, total= 2.3min\n",
      "[CV] a_dropout=0.0, activation=relu, b_init=lecun_normal, batch_size=128, dropout=0.0, epochs=100, k_init=lecun_normal, layers=[100, 100, 100], metrics=accuracy, optimizer=rmsprop \n",
      "[CV]  a_dropout=0.0, activation=relu, b_init=lecun_normal, batch_size=128, dropout=0.0, epochs=100, k_init=lecun_normal, layers=[100, 100, 100], metrics=accuracy, optimizer=rmsprop, score=0.09999999999999618, total= 2.3min\n",
      "[CV] a_dropout=0.0, activation=relu, b_init=lecun_normal, batch_size=128, dropout=0.0, epochs=100, k_init=lecun_normal, layers=[100, 100, 100], metrics=accuracy, optimizer=rmsprop \n",
      "[CV]  a_dropout=0.0, activation=relu, b_init=lecun_normal, batch_size=128, dropout=0.0, epochs=100, k_init=lecun_normal, layers=[100, 100, 100], metrics=accuracy, optimizer=rmsprop, score=0.09999999999999615, total= 2.3min\n",
      "[CV] a_dropout=0.0, activation=relu, b_init=lecun_normal, batch_size=128, dropout=0.0, epochs=100, k_init=lecun_normal, layers=[100, 100, 100], metrics=accuracy, optimizer=adam \n",
      "[CV]  a_dropout=0.0, activation=relu, b_init=lecun_normal, batch_size=128, dropout=0.0, epochs=100, k_init=lecun_normal, layers=[100, 100, 100], metrics=accuracy, optimizer=adam, score=0.09999999999999615, total= 2.4min\n",
      "[CV] a_dropout=0.0, activation=relu, b_init=lecun_normal, batch_size=128, dropout=0.0, epochs=100, k_init=lecun_normal, layers=[100, 100, 100], metrics=accuracy, optimizer=adam \n",
      "[CV]  a_dropout=0.0, activation=relu, b_init=lecun_normal, batch_size=128, dropout=0.0, epochs=100, k_init=lecun_normal, layers=[100, 100, 100], metrics=accuracy, optimizer=adam, score=0.09999999999999618, total= 2.4min\n",
      "[CV] a_dropout=0.0, activation=relu, b_init=lecun_normal, batch_size=128, dropout=0.0, epochs=100, k_init=lecun_normal, layers=[100, 100, 100], metrics=accuracy, optimizer=adam \n",
      "[CV]  a_dropout=0.0, activation=relu, b_init=lecun_normal, batch_size=128, dropout=0.0, epochs=100, k_init=lecun_normal, layers=[100, 100, 100], metrics=accuracy, optimizer=adam, score=0.09999999999999615, total= 2.4min\n",
      "[CV] a_dropout=0.0, activation=relu, b_init=lecun_normal, batch_size=128, dropout=0.0, epochs=100, k_init=lecun_normal, layers=[50, 50, 50, 50], metrics=accuracy, optimizer=rmsprop \n",
      "[CV]  a_dropout=0.0, activation=relu, b_init=lecun_normal, batch_size=128, dropout=0.0, epochs=100, k_init=lecun_normal, layers=[50, 50, 50, 50], metrics=accuracy, optimizer=rmsprop, score=0.09999999999999615, total= 2.0min\n",
      "[CV] a_dropout=0.0, activation=relu, b_init=lecun_normal, batch_size=128, dropout=0.0, epochs=100, k_init=lecun_normal, layers=[50, 50, 50, 50], metrics=accuracy, optimizer=rmsprop \n",
      "[CV]  a_dropout=0.0, activation=relu, b_init=lecun_normal, batch_size=128, dropout=0.0, epochs=100, k_init=lecun_normal, layers=[50, 50, 50, 50], metrics=accuracy, optimizer=rmsprop, score=0.09999999999999618, total= 1.9min\n",
      "[CV] a_dropout=0.0, activation=relu, b_init=lecun_normal, batch_size=128, dropout=0.0, epochs=100, k_init=lecun_normal, layers=[50, 50, 50, 50], metrics=accuracy, optimizer=rmsprop \n",
      "[CV]  a_dropout=0.0, activation=relu, b_init=lecun_normal, batch_size=128, dropout=0.0, epochs=100, k_init=lecun_normal, layers=[50, 50, 50, 50], metrics=accuracy, optimizer=rmsprop, score=0.09999999999999615, total= 1.6min\n",
      "[CV] a_dropout=0.0, activation=relu, b_init=lecun_normal, batch_size=128, dropout=0.0, epochs=100, k_init=lecun_normal, layers=[50, 50, 50, 50], metrics=accuracy, optimizer=adam \n",
      "[CV]  a_dropout=0.0, activation=relu, b_init=lecun_normal, batch_size=128, dropout=0.0, epochs=100, k_init=lecun_normal, layers=[50, 50, 50, 50], metrics=accuracy, optimizer=adam, score=0.09999999999999615, total= 1.8min\n",
      "[CV] a_dropout=0.0, activation=relu, b_init=lecun_normal, batch_size=128, dropout=0.0, epochs=100, k_init=lecun_normal, layers=[50, 50, 50, 50], metrics=accuracy, optimizer=adam \n",
      "[CV]  a_dropout=0.0, activation=relu, b_init=lecun_normal, batch_size=128, dropout=0.0, epochs=100, k_init=lecun_normal, layers=[50, 50, 50, 50], metrics=accuracy, optimizer=adam, score=0.09999999999999618, total= 2.0min\n",
      "[CV] a_dropout=0.0, activation=relu, b_init=lecun_normal, batch_size=128, dropout=0.0, epochs=100, k_init=lecun_normal, layers=[50, 50, 50, 50], metrics=accuracy, optimizer=adam \n",
      "[CV]  a_dropout=0.0, activation=relu, b_init=lecun_normal, batch_size=128, dropout=0.0, epochs=100, k_init=lecun_normal, layers=[50, 50, 50, 50], metrics=accuracy, optimizer=adam, score=0.09999999999999615, total= 2.0min\n",
      "[CV] a_dropout=0.0, activation=relu, b_init=lecun_normal, batch_size=128, dropout=0.5, epochs=10, k_init=lecun_normal, layers=[100, 100], metrics=accuracy, optimizer=rmsprop \n",
      "[CV]  a_dropout=0.0, activation=relu, b_init=lecun_normal, batch_size=128, dropout=0.5, epochs=10, k_init=lecun_normal, layers=[100, 100], metrics=accuracy, optimizer=rmsprop, score=0.09999999999999615, total=  15.9s\n",
      "[CV] a_dropout=0.0, activation=relu, b_init=lecun_normal, batch_size=128, dropout=0.5, epochs=10, k_init=lecun_normal, layers=[100, 100], metrics=accuracy, optimizer=rmsprop \n",
      "[CV]  a_dropout=0.0, activation=relu, b_init=lecun_normal, batch_size=128, dropout=0.5, epochs=10, k_init=lecun_normal, layers=[100, 100], metrics=accuracy, optimizer=rmsprop, score=0.09999999999999618, total=  16.1s\n",
      "[CV] a_dropout=0.0, activation=relu, b_init=lecun_normal, batch_size=128, dropout=0.5, epochs=10, k_init=lecun_normal, layers=[100, 100], metrics=accuracy, optimizer=rmsprop \n",
      "[CV]  a_dropout=0.0, activation=relu, b_init=lecun_normal, batch_size=128, dropout=0.5, epochs=10, k_init=lecun_normal, layers=[100, 100], metrics=accuracy, optimizer=rmsprop, score=0.09999999999999615, total=  15.4s\n",
      "[CV] a_dropout=0.0, activation=relu, b_init=lecun_normal, batch_size=128, dropout=0.5, epochs=10, k_init=lecun_normal, layers=[100, 100], metrics=accuracy, optimizer=adam \n",
      "[CV]  a_dropout=0.0, activation=relu, b_init=lecun_normal, batch_size=128, dropout=0.5, epochs=10, k_init=lecun_normal, layers=[100, 100], metrics=accuracy, optimizer=adam, score=0.09999999999999615, total=  15.2s\n",
      "[CV] a_dropout=0.0, activation=relu, b_init=lecun_normal, batch_size=128, dropout=0.5, epochs=10, k_init=lecun_normal, layers=[100, 100], metrics=accuracy, optimizer=adam \n",
      "[CV]  a_dropout=0.0, activation=relu, b_init=lecun_normal, batch_size=128, dropout=0.5, epochs=10, k_init=lecun_normal, layers=[100, 100], metrics=accuracy, optimizer=adam, score=0.09999999999999618, total=  15.8s\n",
      "[CV] a_dropout=0.0, activation=relu, b_init=lecun_normal, batch_size=128, dropout=0.5, epochs=10, k_init=lecun_normal, layers=[100, 100], metrics=accuracy, optimizer=adam \n",
      "[CV]  a_dropout=0.0, activation=relu, b_init=lecun_normal, batch_size=128, dropout=0.5, epochs=10, k_init=lecun_normal, layers=[100, 100], metrics=accuracy, optimizer=adam, score=0.09999999999999615, total=  16.1s\n",
      "[CV] a_dropout=0.0, activation=relu, b_init=lecun_normal, batch_size=128, dropout=0.5, epochs=10, k_init=lecun_normal, layers=[100, 100, 100], metrics=accuracy, optimizer=rmsprop \n",
      "[CV]  a_dropout=0.0, activation=relu, b_init=lecun_normal, batch_size=128, dropout=0.5, epochs=10, k_init=lecun_normal, layers=[100, 100, 100], metrics=accuracy, optimizer=rmsprop, score=0.09999999999999615, total=  22.9s\n",
      "[CV] a_dropout=0.0, activation=relu, b_init=lecun_normal, batch_size=128, dropout=0.5, epochs=10, k_init=lecun_normal, layers=[100, 100, 100], metrics=accuracy, optimizer=rmsprop \n",
      "[CV]  a_dropout=0.0, activation=relu, b_init=lecun_normal, batch_size=128, dropout=0.5, epochs=10, k_init=lecun_normal, layers=[100, 100, 100], metrics=accuracy, optimizer=rmsprop, score=0.09999999999999618, total=  23.6s\n",
      "[CV] a_dropout=0.0, activation=relu, b_init=lecun_normal, batch_size=128, dropout=0.5, epochs=10, k_init=lecun_normal, layers=[100, 100, 100], metrics=accuracy, optimizer=rmsprop \n",
      "[CV]  a_dropout=0.0, activation=relu, b_init=lecun_normal, batch_size=128, dropout=0.5, epochs=10, k_init=lecun_normal, layers=[100, 100, 100], metrics=accuracy, optimizer=rmsprop, score=0.09999999999999615, total=  22.5s\n",
      "[CV] a_dropout=0.0, activation=relu, b_init=lecun_normal, batch_size=128, dropout=0.5, epochs=10, k_init=lecun_normal, layers=[100, 100, 100], metrics=accuracy, optimizer=adam \n",
      "[CV]  a_dropout=0.0, activation=relu, b_init=lecun_normal, batch_size=128, dropout=0.5, epochs=10, k_init=lecun_normal, layers=[100, 100, 100], metrics=accuracy, optimizer=adam, score=0.09999999999999615, total=  24.7s\n",
      "[CV] a_dropout=0.0, activation=relu, b_init=lecun_normal, batch_size=128, dropout=0.5, epochs=10, k_init=lecun_normal, layers=[100, 100, 100], metrics=accuracy, optimizer=adam \n",
      "[CV]  a_dropout=0.0, activation=relu, b_init=lecun_normal, batch_size=128, dropout=0.5, epochs=10, k_init=lecun_normal, layers=[100, 100, 100], metrics=accuracy, optimizer=adam, score=0.09999999999999618, total=  24.6s\n",
      "[CV] a_dropout=0.0, activation=relu, b_init=lecun_normal, batch_size=128, dropout=0.5, epochs=10, k_init=lecun_normal, layers=[100, 100, 100], metrics=accuracy, optimizer=adam \n",
      "[CV]  a_dropout=0.0, activation=relu, b_init=lecun_normal, batch_size=128, dropout=0.5, epochs=10, k_init=lecun_normal, layers=[100, 100, 100], metrics=accuracy, optimizer=adam, score=0.09999999999999615, total=  24.1s\n",
      "[CV] a_dropout=0.0, activation=relu, b_init=lecun_normal, batch_size=128, dropout=0.5, epochs=10, k_init=lecun_normal, layers=[50, 50, 50, 50], metrics=accuracy, optimizer=rmsprop \n",
      "[CV]  a_dropout=0.0, activation=relu, b_init=lecun_normal, batch_size=128, dropout=0.5, epochs=10, k_init=lecun_normal, layers=[50, 50, 50, 50], metrics=accuracy, optimizer=rmsprop, score=0.09999999999999615, total=  19.9s\n",
      "[CV] a_dropout=0.0, activation=relu, b_init=lecun_normal, batch_size=128, dropout=0.5, epochs=10, k_init=lecun_normal, layers=[50, 50, 50, 50], metrics=accuracy, optimizer=rmsprop \n",
      "[CV]  a_dropout=0.0, activation=relu, b_init=lecun_normal, batch_size=128, dropout=0.5, epochs=10, k_init=lecun_normal, layers=[50, 50, 50, 50], metrics=accuracy, optimizer=rmsprop, score=0.09999999999999618, total=  21.7s\n",
      "[CV] a_dropout=0.0, activation=relu, b_init=lecun_normal, batch_size=128, dropout=0.5, epochs=10, k_init=lecun_normal, layers=[50, 50, 50, 50], metrics=accuracy, optimizer=rmsprop \n",
      "[CV]  a_dropout=0.0, activation=relu, b_init=lecun_normal, batch_size=128, dropout=0.5, epochs=10, k_init=lecun_normal, layers=[50, 50, 50, 50], metrics=accuracy, optimizer=rmsprop, score=0.09999999999999615, total=  20.8s\n",
      "[CV] a_dropout=0.0, activation=relu, b_init=lecun_normal, batch_size=128, dropout=0.5, epochs=10, k_init=lecun_normal, layers=[50, 50, 50, 50], metrics=accuracy, optimizer=adam \n",
      "[CV]  a_dropout=0.0, activation=relu, b_init=lecun_normal, batch_size=128, dropout=0.5, epochs=10, k_init=lecun_normal, layers=[50, 50, 50, 50], metrics=accuracy, optimizer=adam, score=nan, total=  20.4s\n",
      "[CV] a_dropout=0.0, activation=relu, b_init=lecun_normal, batch_size=128, dropout=0.5, epochs=10, k_init=lecun_normal, layers=[50, 50, 50, 50], metrics=accuracy, optimizer=adam \n",
      "[CV]  a_dropout=0.0, activation=relu, b_init=lecun_normal, batch_size=128, dropout=0.5, epochs=10, k_init=lecun_normal, layers=[50, 50, 50, 50], metrics=accuracy, optimizer=adam, score=0.09999999999999618, total=  20.6s\n",
      "[CV] a_dropout=0.0, activation=relu, b_init=lecun_normal, batch_size=128, dropout=0.5, epochs=10, k_init=lecun_normal, layers=[50, 50, 50, 50], metrics=accuracy, optimizer=adam \n",
      "[CV]  a_dropout=0.0, activation=relu, b_init=lecun_normal, batch_size=128, dropout=0.5, epochs=10, k_init=lecun_normal, layers=[50, 50, 50, 50], metrics=accuracy, optimizer=adam, score=0.09999999999999615, total=  20.9s\n",
      "[CV] a_dropout=0.0, activation=relu, b_init=lecun_normal, batch_size=128, dropout=0.5, epochs=50, k_init=lecun_normal, layers=[100, 100], metrics=accuracy, optimizer=rmsprop \n",
      "[CV]  a_dropout=0.0, activation=relu, b_init=lecun_normal, batch_size=128, dropout=0.5, epochs=50, k_init=lecun_normal, layers=[100, 100], metrics=accuracy, optimizer=rmsprop, score=0.09999999999999615, total= 1.2min\n",
      "[CV] a_dropout=0.0, activation=relu, b_init=lecun_normal, batch_size=128, dropout=0.5, epochs=50, k_init=lecun_normal, layers=[100, 100], metrics=accuracy, optimizer=rmsprop \n",
      "[CV]  a_dropout=0.0, activation=relu, b_init=lecun_normal, batch_size=128, dropout=0.5, epochs=50, k_init=lecun_normal, layers=[100, 100], metrics=accuracy, optimizer=rmsprop, score=0.09999999999999618, total= 1.3min\n",
      "[CV] a_dropout=0.0, activation=relu, b_init=lecun_normal, batch_size=128, dropout=0.5, epochs=50, k_init=lecun_normal, layers=[100, 100], metrics=accuracy, optimizer=rmsprop \n",
      "[CV]  a_dropout=0.0, activation=relu, b_init=lecun_normal, batch_size=128, dropout=0.5, epochs=50, k_init=lecun_normal, layers=[100, 100], metrics=accuracy, optimizer=rmsprop, score=0.09999999999999615, total= 1.3min\n",
      "[CV] a_dropout=0.0, activation=relu, b_init=lecun_normal, batch_size=128, dropout=0.5, epochs=50, k_init=lecun_normal, layers=[100, 100], metrics=accuracy, optimizer=adam \n",
      "[CV]  a_dropout=0.0, activation=relu, b_init=lecun_normal, batch_size=128, dropout=0.5, epochs=50, k_init=lecun_normal, layers=[100, 100], metrics=accuracy, optimizer=adam, score=0.09999999999999615, total= 1.3min\n",
      "[CV] a_dropout=0.0, activation=relu, b_init=lecun_normal, batch_size=128, dropout=0.5, epochs=50, k_init=lecun_normal, layers=[100, 100], metrics=accuracy, optimizer=adam \n",
      "[CV]  a_dropout=0.0, activation=relu, b_init=lecun_normal, batch_size=128, dropout=0.5, epochs=50, k_init=lecun_normal, layers=[100, 100], metrics=accuracy, optimizer=adam, score=0.09999999999999618, total= 1.3min\n",
      "[CV] a_dropout=0.0, activation=relu, b_init=lecun_normal, batch_size=128, dropout=0.5, epochs=50, k_init=lecun_normal, layers=[100, 100], metrics=accuracy, optimizer=adam \n",
      "[CV]  a_dropout=0.0, activation=relu, b_init=lecun_normal, batch_size=128, dropout=0.5, epochs=50, k_init=lecun_normal, layers=[100, 100], metrics=accuracy, optimizer=adam, score=0.09999999999999615, total= 1.3min\n",
      "[CV] a_dropout=0.0, activation=relu, b_init=lecun_normal, batch_size=128, dropout=0.5, epochs=50, k_init=lecun_normal, layers=[100, 100, 100], metrics=accuracy, optimizer=rmsprop \n",
      "[CV]  a_dropout=0.0, activation=relu, b_init=lecun_normal, batch_size=128, dropout=0.5, epochs=50, k_init=lecun_normal, layers=[100, 100, 100], metrics=accuracy, optimizer=rmsprop, score=0.09999999999999615, total= 1.8min\n",
      "[CV] a_dropout=0.0, activation=relu, b_init=lecun_normal, batch_size=128, dropout=0.5, epochs=50, k_init=lecun_normal, layers=[100, 100, 100], metrics=accuracy, optimizer=rmsprop \n",
      "[CV]  a_dropout=0.0, activation=relu, b_init=lecun_normal, batch_size=128, dropout=0.5, epochs=50, k_init=lecun_normal, layers=[100, 100, 100], metrics=accuracy, optimizer=rmsprop, score=0.09999999999999618, total= 1.9min\n",
      "[CV] a_dropout=0.0, activation=relu, b_init=lecun_normal, batch_size=128, dropout=0.5, epochs=50, k_init=lecun_normal, layers=[100, 100, 100], metrics=accuracy, optimizer=rmsprop \n",
      "[CV]  a_dropout=0.0, activation=relu, b_init=lecun_normal, batch_size=128, dropout=0.5, epochs=50, k_init=lecun_normal, layers=[100, 100, 100], metrics=accuracy, optimizer=rmsprop, score=0.09999999999999615, total= 2.0min\n",
      "[CV] a_dropout=0.0, activation=relu, b_init=lecun_normal, batch_size=128, dropout=0.5, epochs=50, k_init=lecun_normal, layers=[100, 100, 100], metrics=accuracy, optimizer=adam \n",
      "[CV]  a_dropout=0.0, activation=relu, b_init=lecun_normal, batch_size=128, dropout=0.5, epochs=50, k_init=lecun_normal, layers=[100, 100, 100], metrics=accuracy, optimizer=adam, score=0.09999999999999615, total= 2.0min\n",
      "[CV] a_dropout=0.0, activation=relu, b_init=lecun_normal, batch_size=128, dropout=0.5, epochs=50, k_init=lecun_normal, layers=[100, 100, 100], metrics=accuracy, optimizer=adam \n",
      "[CV]  a_dropout=0.0, activation=relu, b_init=lecun_normal, batch_size=128, dropout=0.5, epochs=50, k_init=lecun_normal, layers=[100, 100, 100], metrics=accuracy, optimizer=adam, score=0.09999999999999618, total= 1.9min\n",
      "[CV] a_dropout=0.0, activation=relu, b_init=lecun_normal, batch_size=128, dropout=0.5, epochs=50, k_init=lecun_normal, layers=[100, 100, 100], metrics=accuracy, optimizer=adam \n",
      "[CV]  a_dropout=0.0, activation=relu, b_init=lecun_normal, batch_size=128, dropout=0.5, epochs=50, k_init=lecun_normal, layers=[100, 100, 100], metrics=accuracy, optimizer=adam, score=0.09999999999999615, total= 2.0min\n",
      "[CV] a_dropout=0.0, activation=relu, b_init=lecun_normal, batch_size=128, dropout=0.5, epochs=50, k_init=lecun_normal, layers=[50, 50, 50, 50], metrics=accuracy, optimizer=rmsprop \n",
      "[CV]  a_dropout=0.0, activation=relu, b_init=lecun_normal, batch_size=128, dropout=0.5, epochs=50, k_init=lecun_normal, layers=[50, 50, 50, 50], metrics=accuracy, optimizer=rmsprop, score=0.09999999999999615, total= 1.7min\n",
      "[CV] a_dropout=0.0, activation=relu, b_init=lecun_normal, batch_size=128, dropout=0.5, epochs=50, k_init=lecun_normal, layers=[50, 50, 50, 50], metrics=accuracy, optimizer=rmsprop \n",
      "[CV]  a_dropout=0.0, activation=relu, b_init=lecun_normal, batch_size=128, dropout=0.5, epochs=50, k_init=lecun_normal, layers=[50, 50, 50, 50], metrics=accuracy, optimizer=rmsprop, score=0.09999999999999618, total= 1.6min\n",
      "[CV] a_dropout=0.0, activation=relu, b_init=lecun_normal, batch_size=128, dropout=0.5, epochs=50, k_init=lecun_normal, layers=[50, 50, 50, 50], metrics=accuracy, optimizer=rmsprop \n",
      "[CV]  a_dropout=0.0, activation=relu, b_init=lecun_normal, batch_size=128, dropout=0.5, epochs=50, k_init=lecun_normal, layers=[50, 50, 50, 50], metrics=accuracy, optimizer=rmsprop, score=0.09999999999999615, total= 1.9min\n",
      "[CV] a_dropout=0.0, activation=relu, b_init=lecun_normal, batch_size=128, dropout=0.5, epochs=50, k_init=lecun_normal, layers=[50, 50, 50, 50], metrics=accuracy, optimizer=adam \n",
      "[CV]  a_dropout=0.0, activation=relu, b_init=lecun_normal, batch_size=128, dropout=0.5, epochs=50, k_init=lecun_normal, layers=[50, 50, 50, 50], metrics=accuracy, optimizer=adam, score=0.09999999999999615, total= 2.4min\n",
      "[CV] a_dropout=0.0, activation=relu, b_init=lecun_normal, batch_size=128, dropout=0.5, epochs=50, k_init=lecun_normal, layers=[50, 50, 50, 50], metrics=accuracy, optimizer=adam \n",
      "[CV]  a_dropout=0.0, activation=relu, b_init=lecun_normal, batch_size=128, dropout=0.5, epochs=50, k_init=lecun_normal, layers=[50, 50, 50, 50], metrics=accuracy, optimizer=adam, score=0.09999999999999618, total= 2.4min\n",
      "[CV] a_dropout=0.0, activation=relu, b_init=lecun_normal, batch_size=128, dropout=0.5, epochs=50, k_init=lecun_normal, layers=[50, 50, 50, 50], metrics=accuracy, optimizer=adam \n",
      "[CV]  a_dropout=0.0, activation=relu, b_init=lecun_normal, batch_size=128, dropout=0.5, epochs=50, k_init=lecun_normal, layers=[50, 50, 50, 50], metrics=accuracy, optimizer=adam, score=0.09999999999999615, total= 2.3min\n",
      "[CV] a_dropout=0.0, activation=relu, b_init=lecun_normal, batch_size=128, dropout=0.5, epochs=100, k_init=lecun_normal, layers=[100, 100], metrics=accuracy, optimizer=rmsprop \n",
      "[CV]  a_dropout=0.0, activation=relu, b_init=lecun_normal, batch_size=128, dropout=0.5, epochs=100, k_init=lecun_normal, layers=[100, 100], metrics=accuracy, optimizer=rmsprop, score=0.09999999999999615, total= 3.1min\n",
      "[CV] a_dropout=0.0, activation=relu, b_init=lecun_normal, batch_size=128, dropout=0.5, epochs=100, k_init=lecun_normal, layers=[100, 100], metrics=accuracy, optimizer=rmsprop \n"
     ]
    },
    {
     "name": "stderr",
     "output_type": "stream",
     "text": [
      "ERROR:root:Internal Python error in the inspect module.\n",
      "Below is the traceback from this internal error.\n",
      "\n"
     ]
    },
    {
     "ename": "KeyboardInterrupt",
     "evalue": "",
     "output_type": "error",
     "traceback": [
      "\u001b[0;31m---------------------------------------------------------------------------\u001b[0m",
      "\u001b[0;31mKeyboardInterrupt\u001b[0m                         Traceback (most recent call last)",
      "\u001b[0;32mC:\\Users\\Snir\\Anaconda3\\lib\\site-packages\\IPython\\core\\interactiveshell.py\u001b[0m in \u001b[0;36mrun_code\u001b[0;34m(self, code_obj, result)\u001b[0m\n\u001b[1;32m   2880\u001b[0m                 \u001b[1;31m#rprint('Running code', repr(code_obj)) # dbg\u001b[0m\u001b[1;33m\u001b[0m\u001b[1;33m\u001b[0m\u001b[0m\n\u001b[0;32m-> 2881\u001b[0;31m                 \u001b[0mexec\u001b[0m\u001b[1;33m(\u001b[0m\u001b[0mcode_obj\u001b[0m\u001b[1;33m,\u001b[0m \u001b[0mself\u001b[0m\u001b[1;33m.\u001b[0m\u001b[0muser_global_ns\u001b[0m\u001b[1;33m,\u001b[0m \u001b[0mself\u001b[0m\u001b[1;33m.\u001b[0m\u001b[0muser_ns\u001b[0m\u001b[1;33m)\u001b[0m\u001b[1;33m\u001b[0m\u001b[0m\n\u001b[0m\u001b[1;32m   2882\u001b[0m             \u001b[1;32mfinally\u001b[0m\u001b[1;33m:\u001b[0m\u001b[1;33m\u001b[0m\u001b[0m\n",
      "\u001b[0;32m<ipython-input-10-acd178f44ef6>\u001b[0m in \u001b[0;36m<module>\u001b[0;34m()\u001b[0m\n\u001b[1;32m     54\u001b[0m                     scoring= lift_index_score)\n\u001b[0;32m---> 55\u001b[0;31m \u001b[0mgrid_result\u001b[0m \u001b[1;33m=\u001b[0m \u001b[0mgrid\u001b[0m\u001b[1;33m.\u001b[0m\u001b[0mfit\u001b[0m\u001b[1;33m(\u001b[0m\u001b[0mX_train\u001b[0m\u001b[1;33m,\u001b[0m\u001b[0my_train\u001b[0m\u001b[1;33m)\u001b[0m \u001b[1;31m#reg search\u001b[0m\u001b[1;33m\u001b[0m\u001b[0m\n\u001b[0m\u001b[1;32m     56\u001b[0m \u001b[1;31m#rand_grid_results = rand_grid.fit(X_train, y_train) #random search\u001b[0m\u001b[1;33m\u001b[0m\u001b[1;33m\u001b[0m\u001b[0m\n",
      "\u001b[0;32mC:\\Users\\Snir\\Anaconda3\\lib\\site-packages\\sklearn\\model_selection\\_search.py\u001b[0m in \u001b[0;36mfit\u001b[0;34m(self, X, y, groups, **fit_params)\u001b[0m\n\u001b[1;32m    638\u001b[0m           for parameters, (train, test) in product(candidate_params,\n\u001b[0;32m--> 639\u001b[0;31m                                                    cv.split(X, y, groups)))\n\u001b[0m\u001b[1;32m    640\u001b[0m \u001b[1;33m\u001b[0m\u001b[0m\n",
      "\u001b[0;32mC:\\Users\\Snir\\Anaconda3\\lib\\site-packages\\sklearn\\externals\\joblib\\parallel.py\u001b[0m in \u001b[0;36m__call__\u001b[0;34m(self, iterable)\u001b[0m\n\u001b[1;32m    778\u001b[0m             \u001b[1;31m# case of Parallel used with an exhausted iterator.\u001b[0m\u001b[1;33m\u001b[0m\u001b[1;33m\u001b[0m\u001b[0m\n\u001b[0;32m--> 779\u001b[0;31m             \u001b[1;32mwhile\u001b[0m \u001b[0mself\u001b[0m\u001b[1;33m.\u001b[0m\u001b[0mdispatch_one_batch\u001b[0m\u001b[1;33m(\u001b[0m\u001b[0miterator\u001b[0m\u001b[1;33m)\u001b[0m\u001b[1;33m:\u001b[0m\u001b[1;33m\u001b[0m\u001b[0m\n\u001b[0m\u001b[1;32m    780\u001b[0m                 \u001b[0mself\u001b[0m\u001b[1;33m.\u001b[0m\u001b[0m_iterating\u001b[0m \u001b[1;33m=\u001b[0m \u001b[1;32mTrue\u001b[0m\u001b[1;33m\u001b[0m\u001b[0m\n",
      "\u001b[0;32mC:\\Users\\Snir\\Anaconda3\\lib\\site-packages\\sklearn\\externals\\joblib\\parallel.py\u001b[0m in \u001b[0;36mdispatch_one_batch\u001b[0;34m(self, iterator)\u001b[0m\n\u001b[1;32m    624\u001b[0m             \u001b[1;32melse\u001b[0m\u001b[1;33m:\u001b[0m\u001b[1;33m\u001b[0m\u001b[0m\n\u001b[0;32m--> 625\u001b[0;31m                 \u001b[0mself\u001b[0m\u001b[1;33m.\u001b[0m\u001b[0m_dispatch\u001b[0m\u001b[1;33m(\u001b[0m\u001b[0mtasks\u001b[0m\u001b[1;33m)\u001b[0m\u001b[1;33m\u001b[0m\u001b[0m\n\u001b[0m\u001b[1;32m    626\u001b[0m                 \u001b[1;32mreturn\u001b[0m \u001b[1;32mTrue\u001b[0m\u001b[1;33m\u001b[0m\u001b[0m\n",
      "\u001b[0;32mC:\\Users\\Snir\\Anaconda3\\lib\\site-packages\\sklearn\\externals\\joblib\\parallel.py\u001b[0m in \u001b[0;36m_dispatch\u001b[0;34m(self, batch)\u001b[0m\n\u001b[1;32m    587\u001b[0m         \u001b[0mcb\u001b[0m \u001b[1;33m=\u001b[0m \u001b[0mBatchCompletionCallBack\u001b[0m\u001b[1;33m(\u001b[0m\u001b[0mdispatch_timestamp\u001b[0m\u001b[1;33m,\u001b[0m \u001b[0mlen\u001b[0m\u001b[1;33m(\u001b[0m\u001b[0mbatch\u001b[0m\u001b[1;33m)\u001b[0m\u001b[1;33m,\u001b[0m \u001b[0mself\u001b[0m\u001b[1;33m)\u001b[0m\u001b[1;33m\u001b[0m\u001b[0m\n\u001b[0;32m--> 588\u001b[0;31m         \u001b[0mjob\u001b[0m \u001b[1;33m=\u001b[0m \u001b[0mself\u001b[0m\u001b[1;33m.\u001b[0m\u001b[0m_backend\u001b[0m\u001b[1;33m.\u001b[0m\u001b[0mapply_async\u001b[0m\u001b[1;33m(\u001b[0m\u001b[0mbatch\u001b[0m\u001b[1;33m,\u001b[0m \u001b[0mcallback\u001b[0m\u001b[1;33m=\u001b[0m\u001b[0mcb\u001b[0m\u001b[1;33m)\u001b[0m\u001b[1;33m\u001b[0m\u001b[0m\n\u001b[0m\u001b[1;32m    589\u001b[0m         \u001b[0mself\u001b[0m\u001b[1;33m.\u001b[0m\u001b[0m_jobs\u001b[0m\u001b[1;33m.\u001b[0m\u001b[0mappend\u001b[0m\u001b[1;33m(\u001b[0m\u001b[0mjob\u001b[0m\u001b[1;33m)\u001b[0m\u001b[1;33m\u001b[0m\u001b[0m\n",
      "\u001b[0;32mC:\\Users\\Snir\\Anaconda3\\lib\\site-packages\\sklearn\\externals\\joblib\\_parallel_backends.py\u001b[0m in \u001b[0;36mapply_async\u001b[0;34m(self, func, callback)\u001b[0m\n\u001b[1;32m    110\u001b[0m         \u001b[1;34m\"\"\"Schedule a func to be run\"\"\"\u001b[0m\u001b[1;33m\u001b[0m\u001b[0m\n\u001b[0;32m--> 111\u001b[0;31m         \u001b[0mresult\u001b[0m \u001b[1;33m=\u001b[0m \u001b[0mImmediateResult\u001b[0m\u001b[1;33m(\u001b[0m\u001b[0mfunc\u001b[0m\u001b[1;33m)\u001b[0m\u001b[1;33m\u001b[0m\u001b[0m\n\u001b[0m\u001b[1;32m    112\u001b[0m         \u001b[1;32mif\u001b[0m \u001b[0mcallback\u001b[0m\u001b[1;33m:\u001b[0m\u001b[1;33m\u001b[0m\u001b[0m\n",
      "\u001b[0;32mC:\\Users\\Snir\\Anaconda3\\lib\\site-packages\\sklearn\\externals\\joblib\\_parallel_backends.py\u001b[0m in \u001b[0;36m__init__\u001b[0;34m(self, batch)\u001b[0m\n\u001b[1;32m    331\u001b[0m         \u001b[1;31m# arguments in memory\u001b[0m\u001b[1;33m\u001b[0m\u001b[1;33m\u001b[0m\u001b[0m\n\u001b[0;32m--> 332\u001b[0;31m         \u001b[0mself\u001b[0m\u001b[1;33m.\u001b[0m\u001b[0mresults\u001b[0m \u001b[1;33m=\u001b[0m \u001b[0mbatch\u001b[0m\u001b[1;33m(\u001b[0m\u001b[1;33m)\u001b[0m\u001b[1;33m\u001b[0m\u001b[0m\n\u001b[0m\u001b[1;32m    333\u001b[0m \u001b[1;33m\u001b[0m\u001b[0m\n",
      "\u001b[0;32mC:\\Users\\Snir\\Anaconda3\\lib\\site-packages\\sklearn\\externals\\joblib\\parallel.py\u001b[0m in \u001b[0;36m__call__\u001b[0;34m(self)\u001b[0m\n\u001b[1;32m    130\u001b[0m     \u001b[1;32mdef\u001b[0m \u001b[0m__call__\u001b[0m\u001b[1;33m(\u001b[0m\u001b[0mself\u001b[0m\u001b[1;33m)\u001b[0m\u001b[1;33m:\u001b[0m\u001b[1;33m\u001b[0m\u001b[0m\n\u001b[0;32m--> 131\u001b[0;31m         \u001b[1;32mreturn\u001b[0m \u001b[1;33m[\u001b[0m\u001b[0mfunc\u001b[0m\u001b[1;33m(\u001b[0m\u001b[1;33m*\u001b[0m\u001b[0margs\u001b[0m\u001b[1;33m,\u001b[0m \u001b[1;33m**\u001b[0m\u001b[0mkwargs\u001b[0m\u001b[1;33m)\u001b[0m \u001b[1;32mfor\u001b[0m \u001b[0mfunc\u001b[0m\u001b[1;33m,\u001b[0m \u001b[0margs\u001b[0m\u001b[1;33m,\u001b[0m \u001b[0mkwargs\u001b[0m \u001b[1;32min\u001b[0m \u001b[0mself\u001b[0m\u001b[1;33m.\u001b[0m\u001b[0mitems\u001b[0m\u001b[1;33m]\u001b[0m\u001b[1;33m\u001b[0m\u001b[0m\n\u001b[0m\u001b[1;32m    132\u001b[0m \u001b[1;33m\u001b[0m\u001b[0m\n",
      "\u001b[0;32mC:\\Users\\Snir\\Anaconda3\\lib\\site-packages\\sklearn\\externals\\joblib\\parallel.py\u001b[0m in \u001b[0;36m<listcomp>\u001b[0;34m(.0)\u001b[0m\n\u001b[1;32m    130\u001b[0m     \u001b[1;32mdef\u001b[0m \u001b[0m__call__\u001b[0m\u001b[1;33m(\u001b[0m\u001b[0mself\u001b[0m\u001b[1;33m)\u001b[0m\u001b[1;33m:\u001b[0m\u001b[1;33m\u001b[0m\u001b[0m\n\u001b[0;32m--> 131\u001b[0;31m         \u001b[1;32mreturn\u001b[0m \u001b[1;33m[\u001b[0m\u001b[0mfunc\u001b[0m\u001b[1;33m(\u001b[0m\u001b[1;33m*\u001b[0m\u001b[0margs\u001b[0m\u001b[1;33m,\u001b[0m \u001b[1;33m**\u001b[0m\u001b[0mkwargs\u001b[0m\u001b[1;33m)\u001b[0m \u001b[1;32mfor\u001b[0m \u001b[0mfunc\u001b[0m\u001b[1;33m,\u001b[0m \u001b[0margs\u001b[0m\u001b[1;33m,\u001b[0m \u001b[0mkwargs\u001b[0m \u001b[1;32min\u001b[0m \u001b[0mself\u001b[0m\u001b[1;33m.\u001b[0m\u001b[0mitems\u001b[0m\u001b[1;33m]\u001b[0m\u001b[1;33m\u001b[0m\u001b[0m\n\u001b[0m\u001b[1;32m    132\u001b[0m \u001b[1;33m\u001b[0m\u001b[0m\n",
      "\u001b[0;32mC:\\Users\\Snir\\Anaconda3\\lib\\site-packages\\sklearn\\model_selection\\_validation.py\u001b[0m in \u001b[0;36m_fit_and_score\u001b[0;34m(estimator, X, y, scorer, train, test, verbose, parameters, fit_params, return_train_score, return_parameters, return_n_test_samples, return_times, error_score)\u001b[0m\n\u001b[1;32m    457\u001b[0m         \u001b[1;32melse\u001b[0m\u001b[1;33m:\u001b[0m\u001b[1;33m\u001b[0m\u001b[0m\n\u001b[0;32m--> 458\u001b[0;31m             \u001b[0mestimator\u001b[0m\u001b[1;33m.\u001b[0m\u001b[0mfit\u001b[0m\u001b[1;33m(\u001b[0m\u001b[0mX_train\u001b[0m\u001b[1;33m,\u001b[0m \u001b[0my_train\u001b[0m\u001b[1;33m,\u001b[0m \u001b[1;33m**\u001b[0m\u001b[0mfit_params\u001b[0m\u001b[1;33m)\u001b[0m\u001b[1;33m\u001b[0m\u001b[0m\n\u001b[0m\u001b[1;32m    459\u001b[0m \u001b[1;33m\u001b[0m\u001b[0m\n",
      "\u001b[0;32mC:\\Users\\Snir\\Anaconda3\\lib\\site-packages\\keras\\wrappers\\scikit_learn.py\u001b[0m in \u001b[0;36mfit\u001b[0;34m(self, x, y, sample_weight, **kwargs)\u001b[0m\n\u001b[1;32m    209\u001b[0m             \u001b[0mkwargs\u001b[0m\u001b[1;33m[\u001b[0m\u001b[1;34m'sample_weight'\u001b[0m\u001b[1;33m]\u001b[0m \u001b[1;33m=\u001b[0m \u001b[0msample_weight\u001b[0m\u001b[1;33m\u001b[0m\u001b[0m\n\u001b[0;32m--> 210\u001b[0;31m         \u001b[1;32mreturn\u001b[0m \u001b[0msuper\u001b[0m\u001b[1;33m(\u001b[0m\u001b[0mKerasClassifier\u001b[0m\u001b[1;33m,\u001b[0m \u001b[0mself\u001b[0m\u001b[1;33m)\u001b[0m\u001b[1;33m.\u001b[0m\u001b[0mfit\u001b[0m\u001b[1;33m(\u001b[0m\u001b[0mx\u001b[0m\u001b[1;33m,\u001b[0m \u001b[0my\u001b[0m\u001b[1;33m,\u001b[0m \u001b[1;33m**\u001b[0m\u001b[0mkwargs\u001b[0m\u001b[1;33m)\u001b[0m\u001b[1;33m\u001b[0m\u001b[0m\n\u001b[0m\u001b[1;32m    211\u001b[0m \u001b[1;33m\u001b[0m\u001b[0m\n",
      "\u001b[0;32mC:\\Users\\Snir\\Anaconda3\\lib\\site-packages\\keras\\wrappers\\scikit_learn.py\u001b[0m in \u001b[0;36mfit\u001b[0;34m(self, x, y, **kwargs)\u001b[0m\n\u001b[1;32m    151\u001b[0m \u001b[1;33m\u001b[0m\u001b[0m\n\u001b[0;32m--> 152\u001b[0;31m         \u001b[0mhistory\u001b[0m \u001b[1;33m=\u001b[0m \u001b[0mself\u001b[0m\u001b[1;33m.\u001b[0m\u001b[0mmodel\u001b[0m\u001b[1;33m.\u001b[0m\u001b[0mfit\u001b[0m\u001b[1;33m(\u001b[0m\u001b[0mx\u001b[0m\u001b[1;33m,\u001b[0m \u001b[0my\u001b[0m\u001b[1;33m,\u001b[0m \u001b[1;33m**\u001b[0m\u001b[0mfit_args\u001b[0m\u001b[1;33m)\u001b[0m\u001b[1;33m\u001b[0m\u001b[0m\n\u001b[0m\u001b[1;32m    153\u001b[0m \u001b[1;33m\u001b[0m\u001b[0m\n",
      "\u001b[0;32mC:\\Users\\Snir\\Anaconda3\\lib\\site-packages\\keras\\engine\\training.py\u001b[0m in \u001b[0;36mfit\u001b[0;34m(self, x, y, batch_size, epochs, verbose, callbacks, validation_split, validation_data, shuffle, class_weight, sample_weight, initial_epoch, steps_per_epoch, validation_steps, **kwargs)\u001b[0m\n\u001b[1;32m   1036\u001b[0m                                         \u001b[0msteps_per_epoch\u001b[0m\u001b[1;33m=\u001b[0m\u001b[0msteps_per_epoch\u001b[0m\u001b[1;33m,\u001b[0m\u001b[1;33m\u001b[0m\u001b[0m\n\u001b[0;32m-> 1037\u001b[0;31m                                         validation_steps=validation_steps)\n\u001b[0m\u001b[1;32m   1038\u001b[0m \u001b[1;33m\u001b[0m\u001b[0m\n",
      "\u001b[0;32mC:\\Users\\Snir\\Anaconda3\\lib\\site-packages\\keras\\engine\\training_arrays.py\u001b[0m in \u001b[0;36mfit_loop\u001b[0;34m(model, f, ins, out_labels, batch_size, epochs, verbose, callbacks, val_f, val_ins, shuffle, callback_metrics, initial_epoch, steps_per_epoch, validation_steps)\u001b[0m\n\u001b[1;32m    198\u001b[0m \u001b[1;33m\u001b[0m\u001b[0m\n\u001b[0;32m--> 199\u001b[0;31m                 \u001b[0mouts\u001b[0m \u001b[1;33m=\u001b[0m \u001b[0mf\u001b[0m\u001b[1;33m(\u001b[0m\u001b[0mins_batch\u001b[0m\u001b[1;33m)\u001b[0m\u001b[1;33m\u001b[0m\u001b[0m\n\u001b[0m\u001b[1;32m    200\u001b[0m                 \u001b[0mouts\u001b[0m \u001b[1;33m=\u001b[0m \u001b[0mto_list\u001b[0m\u001b[1;33m(\u001b[0m\u001b[0mouts\u001b[0m\u001b[1;33m)\u001b[0m\u001b[1;33m\u001b[0m\u001b[0m\n",
      "\u001b[0;32mC:\\Users\\Snir\\Anaconda3\\lib\\site-packages\\keras\\backend\\tensorflow_backend.py\u001b[0m in \u001b[0;36m__call__\u001b[0;34m(self, inputs)\u001b[0m\n\u001b[1;32m   2671\u001b[0m                     'in TensorFlow, you need tensorflow 1.8 or higher.')\n\u001b[0;32m-> 2672\u001b[0;31m             \u001b[1;32mreturn\u001b[0m \u001b[0mself\u001b[0m\u001b[1;33m.\u001b[0m\u001b[0m_legacy_call\u001b[0m\u001b[1;33m(\u001b[0m\u001b[0minputs\u001b[0m\u001b[1;33m)\u001b[0m\u001b[1;33m\u001b[0m\u001b[0m\n\u001b[0m\u001b[1;32m   2673\u001b[0m \u001b[1;33m\u001b[0m\u001b[0m\n",
      "\u001b[0;32mC:\\Users\\Snir\\Anaconda3\\lib\\site-packages\\keras\\backend\\tensorflow_backend.py\u001b[0m in \u001b[0;36m_legacy_call\u001b[0;34m(self, inputs)\u001b[0m\n\u001b[1;32m   2653\u001b[0m         updated = session.run(fetches=fetches, feed_dict=feed_dict,\n\u001b[0;32m-> 2654\u001b[0;31m                               **self.session_kwargs)\n\u001b[0m\u001b[1;32m   2655\u001b[0m         \u001b[1;32mreturn\u001b[0m \u001b[0mupdated\u001b[0m\u001b[1;33m[\u001b[0m\u001b[1;33m:\u001b[0m\u001b[0mlen\u001b[0m\u001b[1;33m(\u001b[0m\u001b[0mself\u001b[0m\u001b[1;33m.\u001b[0m\u001b[0moutputs\u001b[0m\u001b[1;33m)\u001b[0m\u001b[1;33m]\u001b[0m\u001b[1;33m\u001b[0m\u001b[0m\n",
      "\u001b[0;32mC:\\Users\\Snir\\Anaconda3\\lib\\site-packages\\tensorflow\\python\\client\\session.py\u001b[0m in \u001b[0;36mrun\u001b[0;34m(self, fetches, feed_dict, options, run_metadata)\u001b[0m\n\u001b[1;32m    894\u001b[0m       result = self._run(None, fetches, feed_dict, options_ptr,\n\u001b[0;32m--> 895\u001b[0;31m                          run_metadata_ptr)\n\u001b[0m\u001b[1;32m    896\u001b[0m       \u001b[1;32mif\u001b[0m \u001b[0mrun_metadata\u001b[0m\u001b[1;33m:\u001b[0m\u001b[1;33m\u001b[0m\u001b[0m\n",
      "\u001b[0;32mC:\\Users\\Snir\\Anaconda3\\lib\\site-packages\\tensorflow\\python\\client\\session.py\u001b[0m in \u001b[0;36m_run\u001b[0;34m(self, handle, fetches, feed_dict, options, run_metadata)\u001b[0m\n\u001b[1;32m   1092\u001b[0m           \u001b[1;32melse\u001b[0m\u001b[1;33m:\u001b[0m\u001b[1;33m\u001b[0m\u001b[0m\n\u001b[0;32m-> 1093\u001b[0;31m             \u001b[0mnp_val\u001b[0m \u001b[1;33m=\u001b[0m \u001b[0mnp\u001b[0m\u001b[1;33m.\u001b[0m\u001b[0masarray\u001b[0m\u001b[1;33m(\u001b[0m\u001b[0msubfeed_val\u001b[0m\u001b[1;33m,\u001b[0m \u001b[0mdtype\u001b[0m\u001b[1;33m=\u001b[0m\u001b[0msubfeed_dtype\u001b[0m\u001b[1;33m)\u001b[0m\u001b[1;33m\u001b[0m\u001b[0m\n\u001b[0m\u001b[1;32m   1094\u001b[0m \u001b[1;33m\u001b[0m\u001b[0m\n",
      "\u001b[0;32mC:\\Users\\Snir\\Anaconda3\\lib\\site-packages\\numpy\\core\\numeric.py\u001b[0m in \u001b[0;36masarray\u001b[0;34m(a, dtype, order)\u001b[0m\n\u001b[1;32m    500\u001b[0m     \"\"\"\n\u001b[0;32m--> 501\u001b[0;31m     \u001b[1;32mreturn\u001b[0m \u001b[0marray\u001b[0m\u001b[1;33m(\u001b[0m\u001b[0ma\u001b[0m\u001b[1;33m,\u001b[0m \u001b[0mdtype\u001b[0m\u001b[1;33m,\u001b[0m \u001b[0mcopy\u001b[0m\u001b[1;33m=\u001b[0m\u001b[1;32mFalse\u001b[0m\u001b[1;33m,\u001b[0m \u001b[0morder\u001b[0m\u001b[1;33m=\u001b[0m\u001b[0morder\u001b[0m\u001b[1;33m)\u001b[0m\u001b[1;33m\u001b[0m\u001b[0m\n\u001b[0m\u001b[1;32m    502\u001b[0m \u001b[1;33m\u001b[0m\u001b[0m\n",
      "\u001b[0;31mKeyboardInterrupt\u001b[0m: ",
      "\nDuring handling of the above exception, another exception occurred:\n",
      "\u001b[0;31mAttributeError\u001b[0m                            Traceback (most recent call last)",
      "\u001b[0;32mC:\\Users\\Snir\\Anaconda3\\lib\\site-packages\\IPython\\core\\interactiveshell.py\u001b[0m in \u001b[0;36mshowtraceback\u001b[0;34m(self, exc_tuple, filename, tb_offset, exception_only)\u001b[0m\n\u001b[1;32m   1820\u001b[0m                         \u001b[1;31m# in the engines. This should return a list of strings.\u001b[0m\u001b[1;33m\u001b[0m\u001b[1;33m\u001b[0m\u001b[0m\n\u001b[0;32m-> 1821\u001b[0;31m                         \u001b[0mstb\u001b[0m \u001b[1;33m=\u001b[0m \u001b[0mvalue\u001b[0m\u001b[1;33m.\u001b[0m\u001b[0m_render_traceback_\u001b[0m\u001b[1;33m(\u001b[0m\u001b[1;33m)\u001b[0m\u001b[1;33m\u001b[0m\u001b[0m\n\u001b[0m\u001b[1;32m   1822\u001b[0m                     \u001b[1;32mexcept\u001b[0m \u001b[0mException\u001b[0m\u001b[1;33m:\u001b[0m\u001b[1;33m\u001b[0m\u001b[0m\n",
      "\u001b[0;31mAttributeError\u001b[0m: 'KeyboardInterrupt' object has no attribute '_render_traceback_'",
      "\nDuring handling of the above exception, another exception occurred:\n",
      "\u001b[0;31mKeyboardInterrupt\u001b[0m                         Traceback (most recent call last)",
      "\u001b[0;32mC:\\Users\\Snir\\Anaconda3\\lib\\site-packages\\IPython\\core\\ultratb.py\u001b[0m in \u001b[0;36mget_records\u001b[0;34m(self, etb, number_of_lines_of_context, tb_offset)\u001b[0m\n\u001b[1;32m   1131\u001b[0m             \u001b[1;31m# (5 blanks lines) where none should be returned.\u001b[0m\u001b[1;33m\u001b[0m\u001b[1;33m\u001b[0m\u001b[0m\n\u001b[0;32m-> 1132\u001b[0;31m             \u001b[1;32mreturn\u001b[0m \u001b[0m_fixed_getinnerframes\u001b[0m\u001b[1;33m(\u001b[0m\u001b[0metb\u001b[0m\u001b[1;33m,\u001b[0m \u001b[0mnumber_of_lines_of_context\u001b[0m\u001b[1;33m,\u001b[0m \u001b[0mtb_offset\u001b[0m\u001b[1;33m)\u001b[0m\u001b[1;33m\u001b[0m\u001b[0m\n\u001b[0m\u001b[1;32m   1133\u001b[0m         \u001b[1;32mexcept\u001b[0m\u001b[1;33m:\u001b[0m\u001b[1;33m\u001b[0m\u001b[0m\n",
      "\u001b[0;32mC:\\Users\\Snir\\Anaconda3\\lib\\site-packages\\IPython\\core\\ultratb.py\u001b[0m in \u001b[0;36mwrapped\u001b[0;34m(*args, **kwargs)\u001b[0m\n\u001b[1;32m    312\u001b[0m         \u001b[1;32mtry\u001b[0m\u001b[1;33m:\u001b[0m\u001b[1;33m\u001b[0m\u001b[0m\n\u001b[0;32m--> 313\u001b[0;31m             \u001b[1;32mreturn\u001b[0m \u001b[0mf\u001b[0m\u001b[1;33m(\u001b[0m\u001b[1;33m*\u001b[0m\u001b[0margs\u001b[0m\u001b[1;33m,\u001b[0m \u001b[1;33m**\u001b[0m\u001b[0mkwargs\u001b[0m\u001b[1;33m)\u001b[0m\u001b[1;33m\u001b[0m\u001b[0m\n\u001b[0m\u001b[1;32m    314\u001b[0m         \u001b[1;32mfinally\u001b[0m\u001b[1;33m:\u001b[0m\u001b[1;33m\u001b[0m\u001b[0m\n",
      "\u001b[0;32mC:\\Users\\Snir\\Anaconda3\\lib\\site-packages\\IPython\\core\\ultratb.py\u001b[0m in \u001b[0;36m_fixed_getinnerframes\u001b[0;34m(etb, context, tb_offset)\u001b[0m\n\u001b[1;32m    357\u001b[0m \u001b[1;33m\u001b[0m\u001b[0m\n\u001b[0;32m--> 358\u001b[0;31m     \u001b[0mrecords\u001b[0m \u001b[1;33m=\u001b[0m \u001b[0mfix_frame_records_filenames\u001b[0m\u001b[1;33m(\u001b[0m\u001b[0minspect\u001b[0m\u001b[1;33m.\u001b[0m\u001b[0mgetinnerframes\u001b[0m\u001b[1;33m(\u001b[0m\u001b[0metb\u001b[0m\u001b[1;33m,\u001b[0m \u001b[0mcontext\u001b[0m\u001b[1;33m)\u001b[0m\u001b[1;33m)\u001b[0m\u001b[1;33m\u001b[0m\u001b[0m\n\u001b[0m\u001b[1;32m    359\u001b[0m     \u001b[1;31m# If the error is at the console, don't build any context, since it would\u001b[0m\u001b[1;33m\u001b[0m\u001b[1;33m\u001b[0m\u001b[0m\n",
      "\u001b[0;32mC:\\Users\\Snir\\Anaconda3\\lib\\inspect.py\u001b[0m in \u001b[0;36mgetinnerframes\u001b[0;34m(tb, context)\u001b[0m\n\u001b[1;32m   1482\u001b[0m     \u001b[1;32mwhile\u001b[0m \u001b[0mtb\u001b[0m\u001b[1;33m:\u001b[0m\u001b[1;33m\u001b[0m\u001b[0m\n\u001b[0;32m-> 1483\u001b[0;31m         \u001b[0mframeinfo\u001b[0m \u001b[1;33m=\u001b[0m \u001b[1;33m(\u001b[0m\u001b[0mtb\u001b[0m\u001b[1;33m.\u001b[0m\u001b[0mtb_frame\u001b[0m\u001b[1;33m,\u001b[0m\u001b[1;33m)\u001b[0m \u001b[1;33m+\u001b[0m \u001b[0mgetframeinfo\u001b[0m\u001b[1;33m(\u001b[0m\u001b[0mtb\u001b[0m\u001b[1;33m,\u001b[0m \u001b[0mcontext\u001b[0m\u001b[1;33m)\u001b[0m\u001b[1;33m\u001b[0m\u001b[0m\n\u001b[0m\u001b[1;32m   1484\u001b[0m         \u001b[0mframelist\u001b[0m\u001b[1;33m.\u001b[0m\u001b[0mappend\u001b[0m\u001b[1;33m(\u001b[0m\u001b[0mFrameInfo\u001b[0m\u001b[1;33m(\u001b[0m\u001b[1;33m*\u001b[0m\u001b[0mframeinfo\u001b[0m\u001b[1;33m)\u001b[0m\u001b[1;33m)\u001b[0m\u001b[1;33m\u001b[0m\u001b[0m\n",
      "\u001b[0;32mC:\\Users\\Snir\\Anaconda3\\lib\\inspect.py\u001b[0m in \u001b[0;36mgetframeinfo\u001b[0;34m(frame, context)\u001b[0m\n\u001b[1;32m   1440\u001b[0m \u001b[1;33m\u001b[0m\u001b[0m\n\u001b[0;32m-> 1441\u001b[0;31m     \u001b[0mfilename\u001b[0m \u001b[1;33m=\u001b[0m \u001b[0mgetsourcefile\u001b[0m\u001b[1;33m(\u001b[0m\u001b[0mframe\u001b[0m\u001b[1;33m)\u001b[0m \u001b[1;32mor\u001b[0m \u001b[0mgetfile\u001b[0m\u001b[1;33m(\u001b[0m\u001b[0mframe\u001b[0m\u001b[1;33m)\u001b[0m\u001b[1;33m\u001b[0m\u001b[0m\n\u001b[0m\u001b[1;32m   1442\u001b[0m     \u001b[1;32mif\u001b[0m \u001b[0mcontext\u001b[0m \u001b[1;33m>\u001b[0m \u001b[1;36m0\u001b[0m\u001b[1;33m:\u001b[0m\u001b[1;33m\u001b[0m\u001b[0m\n",
      "\u001b[0;32mC:\\Users\\Snir\\Anaconda3\\lib\\inspect.py\u001b[0m in \u001b[0;36mgetsourcefile\u001b[0;34m(object)\u001b[0m\n\u001b[1;32m    695\u001b[0m     \u001b[1;31m# only return a non-existent filename if the module has a PEP 302 loader\u001b[0m\u001b[1;33m\u001b[0m\u001b[1;33m\u001b[0m\u001b[0m\n\u001b[0;32m--> 696\u001b[0;31m     \u001b[1;32mif\u001b[0m \u001b[0mgetattr\u001b[0m\u001b[1;33m(\u001b[0m\u001b[0mgetmodule\u001b[0m\u001b[1;33m(\u001b[0m\u001b[0mobject\u001b[0m\u001b[1;33m,\u001b[0m \u001b[0mfilename\u001b[0m\u001b[1;33m)\u001b[0m\u001b[1;33m,\u001b[0m \u001b[1;34m'__loader__'\u001b[0m\u001b[1;33m,\u001b[0m \u001b[1;32mNone\u001b[0m\u001b[1;33m)\u001b[0m \u001b[1;32mis\u001b[0m \u001b[1;32mnot\u001b[0m \u001b[1;32mNone\u001b[0m\u001b[1;33m:\u001b[0m\u001b[1;33m\u001b[0m\u001b[0m\n\u001b[0m\u001b[1;32m    697\u001b[0m         \u001b[1;32mreturn\u001b[0m \u001b[0mfilename\u001b[0m\u001b[1;33m\u001b[0m\u001b[0m\n",
      "\u001b[0;32mC:\\Users\\Snir\\Anaconda3\\lib\\inspect.py\u001b[0m in \u001b[0;36mgetmodule\u001b[0;34m(object, _filename)\u001b[0m\n\u001b[1;32m    738\u001b[0m             \u001b[0m_filesbymodname\u001b[0m\u001b[1;33m[\u001b[0m\u001b[0mmodname\u001b[0m\u001b[1;33m]\u001b[0m \u001b[1;33m=\u001b[0m \u001b[0mf\u001b[0m\u001b[1;33m\u001b[0m\u001b[0m\n\u001b[0;32m--> 739\u001b[0;31m             \u001b[0mf\u001b[0m \u001b[1;33m=\u001b[0m \u001b[0mgetabsfile\u001b[0m\u001b[1;33m(\u001b[0m\u001b[0mmodule\u001b[0m\u001b[1;33m)\u001b[0m\u001b[1;33m\u001b[0m\u001b[0m\n\u001b[0m\u001b[1;32m    740\u001b[0m             \u001b[1;31m# Always map to the name the module knows itself by\u001b[0m\u001b[1;33m\u001b[0m\u001b[1;33m\u001b[0m\u001b[0m\n",
      "\u001b[0;32mC:\\Users\\Snir\\Anaconda3\\lib\\inspect.py\u001b[0m in \u001b[0;36mgetabsfile\u001b[0;34m(object, _filename)\u001b[0m\n\u001b[1;32m    707\u001b[0m     \u001b[1;32mif\u001b[0m \u001b[0m_filename\u001b[0m \u001b[1;32mis\u001b[0m \u001b[1;32mNone\u001b[0m\u001b[1;33m:\u001b[0m\u001b[1;33m\u001b[0m\u001b[0m\n\u001b[0;32m--> 708\u001b[0;31m         \u001b[0m_filename\u001b[0m \u001b[1;33m=\u001b[0m \u001b[0mgetsourcefile\u001b[0m\u001b[1;33m(\u001b[0m\u001b[0mobject\u001b[0m\u001b[1;33m)\u001b[0m \u001b[1;32mor\u001b[0m \u001b[0mgetfile\u001b[0m\u001b[1;33m(\u001b[0m\u001b[0mobject\u001b[0m\u001b[1;33m)\u001b[0m\u001b[1;33m\u001b[0m\u001b[0m\n\u001b[0m\u001b[1;32m    709\u001b[0m     \u001b[1;32mreturn\u001b[0m \u001b[0mos\u001b[0m\u001b[1;33m.\u001b[0m\u001b[0mpath\u001b[0m\u001b[1;33m.\u001b[0m\u001b[0mnormcase\u001b[0m\u001b[1;33m(\u001b[0m\u001b[0mos\u001b[0m\u001b[1;33m.\u001b[0m\u001b[0mpath\u001b[0m\u001b[1;33m.\u001b[0m\u001b[0mabspath\u001b[0m\u001b[1;33m(\u001b[0m\u001b[0m_filename\u001b[0m\u001b[1;33m)\u001b[0m\u001b[1;33m)\u001b[0m\u001b[1;33m\u001b[0m\u001b[0m\n",
      "\u001b[0;32mC:\\Users\\Snir\\Anaconda3\\lib\\inspect.py\u001b[0m in \u001b[0;36mgetsourcefile\u001b[0;34m(object)\u001b[0m\n\u001b[1;32m    692\u001b[0m         \u001b[1;32mreturn\u001b[0m \u001b[1;32mNone\u001b[0m\u001b[1;33m\u001b[0m\u001b[0m\n\u001b[0;32m--> 693\u001b[0;31m     \u001b[1;32mif\u001b[0m \u001b[0mos\u001b[0m\u001b[1;33m.\u001b[0m\u001b[0mpath\u001b[0m\u001b[1;33m.\u001b[0m\u001b[0mexists\u001b[0m\u001b[1;33m(\u001b[0m\u001b[0mfilename\u001b[0m\u001b[1;33m)\u001b[0m\u001b[1;33m:\u001b[0m\u001b[1;33m\u001b[0m\u001b[0m\n\u001b[0m\u001b[1;32m    694\u001b[0m         \u001b[1;32mreturn\u001b[0m \u001b[0mfilename\u001b[0m\u001b[1;33m\u001b[0m\u001b[0m\n",
      "\u001b[0;32mC:\\Users\\Snir\\Anaconda3\\lib\\genericpath.py\u001b[0m in \u001b[0;36mexists\u001b[0;34m(path)\u001b[0m\n\u001b[1;32m     18\u001b[0m     \u001b[1;32mtry\u001b[0m\u001b[1;33m:\u001b[0m\u001b[1;33m\u001b[0m\u001b[0m\n\u001b[0;32m---> 19\u001b[0;31m         \u001b[0mos\u001b[0m\u001b[1;33m.\u001b[0m\u001b[0mstat\u001b[0m\u001b[1;33m(\u001b[0m\u001b[0mpath\u001b[0m\u001b[1;33m)\u001b[0m\u001b[1;33m\u001b[0m\u001b[0m\n\u001b[0m\u001b[1;32m     20\u001b[0m     \u001b[1;32mexcept\u001b[0m \u001b[0mOSError\u001b[0m\u001b[1;33m:\u001b[0m\u001b[1;33m\u001b[0m\u001b[0m\n",
      "\u001b[0;31mKeyboardInterrupt\u001b[0m: ",
      "\nDuring handling of the above exception, another exception occurred:\n",
      "\u001b[0;31mKeyboardInterrupt\u001b[0m                         Traceback (most recent call last)",
      "\u001b[0;32mC:\\Users\\Snir\\Anaconda3\\lib\\site-packages\\IPython\\core\\interactiveshell.py\u001b[0m in \u001b[0;36mshowtraceback\u001b[0;34m(self, exc_tuple, filename, tb_offset, exception_only)\u001b[0m\n\u001b[1;32m   1823\u001b[0m                         stb = self.InteractiveTB.structured_traceback(etype,\n\u001b[0;32m-> 1824\u001b[0;31m                                             value, tb, tb_offset=tb_offset)\n\u001b[0m\u001b[1;32m   1825\u001b[0m \u001b[1;33m\u001b[0m\u001b[0m\n",
      "\u001b[0;32mC:\\Users\\Snir\\Anaconda3\\lib\\site-packages\\IPython\\core\\ultratb.py\u001b[0m in \u001b[0;36mstructured_traceback\u001b[0;34m(self, etype, value, tb, tb_offset, number_of_lines_of_context)\u001b[0m\n\u001b[1;32m   1405\u001b[0m         return FormattedTB.structured_traceback(\n\u001b[0;32m-> 1406\u001b[0;31m             self, etype, value, tb, tb_offset, number_of_lines_of_context)\n\u001b[0m\u001b[1;32m   1407\u001b[0m \u001b[1;33m\u001b[0m\u001b[0m\n",
      "\u001b[0;32mC:\\Users\\Snir\\Anaconda3\\lib\\site-packages\\IPython\\core\\ultratb.py\u001b[0m in \u001b[0;36mstructured_traceback\u001b[0;34m(self, etype, value, tb, tb_offset, number_of_lines_of_context)\u001b[0m\n\u001b[1;32m   1313\u001b[0m             return VerboseTB.structured_traceback(\n\u001b[0;32m-> 1314\u001b[0;31m                 \u001b[0mself\u001b[0m\u001b[1;33m,\u001b[0m \u001b[0metype\u001b[0m\u001b[1;33m,\u001b[0m \u001b[0mvalue\u001b[0m\u001b[1;33m,\u001b[0m \u001b[0mtb\u001b[0m\u001b[1;33m,\u001b[0m \u001b[0mtb_offset\u001b[0m\u001b[1;33m,\u001b[0m \u001b[0mnumber_of_lines_of_context\u001b[0m\u001b[1;33m\u001b[0m\u001b[0m\n\u001b[0m\u001b[1;32m   1315\u001b[0m             )\n",
      "\u001b[0;32mC:\\Users\\Snir\\Anaconda3\\lib\\site-packages\\IPython\\core\\ultratb.py\u001b[0m in \u001b[0;36mstructured_traceback\u001b[0;34m(self, etype, evalue, etb, tb_offset, number_of_lines_of_context)\u001b[0m\n\u001b[1;32m   1163\u001b[0m         formatted_exception = self.format_exception_as_a_whole(etype, evalue, etb, number_of_lines_of_context,\n\u001b[0;32m-> 1164\u001b[0;31m                                                                tb_offset)\n\u001b[0m\u001b[1;32m   1165\u001b[0m \u001b[1;33m\u001b[0m\u001b[0m\n",
      "\u001b[0;32mC:\\Users\\Snir\\Anaconda3\\lib\\site-packages\\IPython\\core\\ultratb.py\u001b[0m in \u001b[0;36mformat_exception_as_a_whole\u001b[0;34m(self, etype, evalue, etb, number_of_lines_of_context, tb_offset)\u001b[0m\n\u001b[1;32m   1107\u001b[0m         \u001b[0mhead\u001b[0m \u001b[1;33m=\u001b[0m \u001b[0mself\u001b[0m\u001b[1;33m.\u001b[0m\u001b[0mprepare_header\u001b[0m\u001b[1;33m(\u001b[0m\u001b[0metype\u001b[0m\u001b[1;33m,\u001b[0m \u001b[0mself\u001b[0m\u001b[1;33m.\u001b[0m\u001b[0mlong_header\u001b[0m\u001b[1;33m)\u001b[0m\u001b[1;33m\u001b[0m\u001b[0m\n\u001b[0;32m-> 1108\u001b[0;31m         \u001b[0mrecords\u001b[0m \u001b[1;33m=\u001b[0m \u001b[0mself\u001b[0m\u001b[1;33m.\u001b[0m\u001b[0mget_records\u001b[0m\u001b[1;33m(\u001b[0m\u001b[0metb\u001b[0m\u001b[1;33m,\u001b[0m \u001b[0mnumber_of_lines_of_context\u001b[0m\u001b[1;33m,\u001b[0m \u001b[0mtb_offset\u001b[0m\u001b[1;33m)\u001b[0m\u001b[1;33m\u001b[0m\u001b[0m\n\u001b[0m\u001b[1;32m   1109\u001b[0m \u001b[1;33m\u001b[0m\u001b[0m\n",
      "\u001b[0;32mC:\\Users\\Snir\\Anaconda3\\lib\\site-packages\\IPython\\core\\ultratb.py\u001b[0m in \u001b[0;36mget_records\u001b[0;34m(self, etb, number_of_lines_of_context, tb_offset)\u001b[0m\n\u001b[1;32m   1140\u001b[0m             \u001b[0minspect_error\u001b[0m\u001b[1;33m(\u001b[0m\u001b[1;33m)\u001b[0m\u001b[1;33m\u001b[0m\u001b[0m\n\u001b[0;32m-> 1141\u001b[0;31m             \u001b[0mtraceback\u001b[0m\u001b[1;33m.\u001b[0m\u001b[0mprint_exc\u001b[0m\u001b[1;33m(\u001b[0m\u001b[0mfile\u001b[0m\u001b[1;33m=\u001b[0m\u001b[0mself\u001b[0m\u001b[1;33m.\u001b[0m\u001b[0mostream\u001b[0m\u001b[1;33m)\u001b[0m\u001b[1;33m\u001b[0m\u001b[0m\n\u001b[0m\u001b[1;32m   1142\u001b[0m             \u001b[0minfo\u001b[0m\u001b[1;33m(\u001b[0m\u001b[1;34m'\\nUnfortunately, your original traceback can not be constructed.\\n'\u001b[0m\u001b[1;33m)\u001b[0m\u001b[1;33m\u001b[0m\u001b[0m\n",
      "\u001b[0;32mC:\\Users\\Snir\\Anaconda3\\lib\\traceback.py\u001b[0m in \u001b[0;36mprint_exc\u001b[0;34m(limit, file, chain)\u001b[0m\n\u001b[1;32m    158\u001b[0m     \u001b[1;34m\"\"\"Shorthand for 'print_exception(*sys.exc_info(), limit, file)'.\"\"\"\u001b[0m\u001b[1;33m\u001b[0m\u001b[0m\n\u001b[0;32m--> 159\u001b[0;31m     \u001b[0mprint_exception\u001b[0m\u001b[1;33m(\u001b[0m\u001b[1;33m*\u001b[0m\u001b[0msys\u001b[0m\u001b[1;33m.\u001b[0m\u001b[0mexc_info\u001b[0m\u001b[1;33m(\u001b[0m\u001b[1;33m)\u001b[0m\u001b[1;33m,\u001b[0m \u001b[0mlimit\u001b[0m\u001b[1;33m=\u001b[0m\u001b[0mlimit\u001b[0m\u001b[1;33m,\u001b[0m \u001b[0mfile\u001b[0m\u001b[1;33m=\u001b[0m\u001b[0mfile\u001b[0m\u001b[1;33m,\u001b[0m \u001b[0mchain\u001b[0m\u001b[1;33m=\u001b[0m\u001b[0mchain\u001b[0m\u001b[1;33m)\u001b[0m\u001b[1;33m\u001b[0m\u001b[0m\n\u001b[0m\u001b[1;32m    160\u001b[0m \u001b[1;33m\u001b[0m\u001b[0m\n",
      "\u001b[0;32mC:\\Users\\Snir\\Anaconda3\\lib\\traceback.py\u001b[0m in \u001b[0;36mprint_exception\u001b[0;34m(etype, value, tb, limit, file, chain)\u001b[0m\n\u001b[1;32m     99\u001b[0m     for line in TracebackException(\n\u001b[0;32m--> 100\u001b[0;31m             type(value), value, tb, limit=limit).format(chain=chain):\n\u001b[0m\u001b[1;32m    101\u001b[0m         \u001b[0mprint\u001b[0m\u001b[1;33m(\u001b[0m\u001b[0mline\u001b[0m\u001b[1;33m,\u001b[0m \u001b[0mfile\u001b[0m\u001b[1;33m=\u001b[0m\u001b[0mfile\u001b[0m\u001b[1;33m,\u001b[0m \u001b[0mend\u001b[0m\u001b[1;33m=\u001b[0m\u001b[1;34m\"\"\u001b[0m\u001b[1;33m)\u001b[0m\u001b[1;33m\u001b[0m\u001b[0m\n",
      "\u001b[0;32mC:\\Users\\Snir\\Anaconda3\\lib\\traceback.py\u001b[0m in \u001b[0;36m__init__\u001b[0;34m(self, exc_type, exc_value, exc_traceback, limit, lookup_lines, capture_locals, _seen)\u001b[0m\n\u001b[1;32m    496\u001b[0m             \u001b[0mwalk_tb\u001b[0m\u001b[1;33m(\u001b[0m\u001b[0mexc_traceback\u001b[0m\u001b[1;33m)\u001b[0m\u001b[1;33m,\u001b[0m \u001b[0mlimit\u001b[0m\u001b[1;33m=\u001b[0m\u001b[0mlimit\u001b[0m\u001b[1;33m,\u001b[0m \u001b[0mlookup_lines\u001b[0m\u001b[1;33m=\u001b[0m\u001b[0mlookup_lines\u001b[0m\u001b[1;33m,\u001b[0m\u001b[1;33m\u001b[0m\u001b[0m\n\u001b[0;32m--> 497\u001b[0;31m             capture_locals=capture_locals)\n\u001b[0m\u001b[1;32m    498\u001b[0m         \u001b[0mself\u001b[0m\u001b[1;33m.\u001b[0m\u001b[0mexc_type\u001b[0m \u001b[1;33m=\u001b[0m \u001b[0mexc_type\u001b[0m\u001b[1;33m\u001b[0m\u001b[0m\n",
      "\u001b[0;32mC:\\Users\\Snir\\Anaconda3\\lib\\traceback.py\u001b[0m in \u001b[0;36mextract\u001b[0;34m(klass, frame_gen, limit, lookup_lines, capture_locals)\u001b[0m\n\u001b[1;32m    357\u001b[0m             \u001b[1;32mfor\u001b[0m \u001b[0mf\u001b[0m \u001b[1;32min\u001b[0m \u001b[0mresult\u001b[0m\u001b[1;33m:\u001b[0m\u001b[1;33m\u001b[0m\u001b[0m\n\u001b[0;32m--> 358\u001b[0;31m                 \u001b[0mf\u001b[0m\u001b[1;33m.\u001b[0m\u001b[0mline\u001b[0m\u001b[1;33m\u001b[0m\u001b[0m\n\u001b[0m\u001b[1;32m    359\u001b[0m         \u001b[1;32mreturn\u001b[0m \u001b[0mresult\u001b[0m\u001b[1;33m\u001b[0m\u001b[0m\n",
      "\u001b[0;32mC:\\Users\\Snir\\Anaconda3\\lib\\traceback.py\u001b[0m in \u001b[0;36mline\u001b[0;34m(self)\u001b[0m\n\u001b[1;32m    281\u001b[0m         \u001b[1;32mif\u001b[0m \u001b[0mself\u001b[0m\u001b[1;33m.\u001b[0m\u001b[0m_line\u001b[0m \u001b[1;32mis\u001b[0m \u001b[1;32mNone\u001b[0m\u001b[1;33m:\u001b[0m\u001b[1;33m\u001b[0m\u001b[0m\n\u001b[0;32m--> 282\u001b[0;31m             \u001b[0mself\u001b[0m\u001b[1;33m.\u001b[0m\u001b[0m_line\u001b[0m \u001b[1;33m=\u001b[0m \u001b[0mlinecache\u001b[0m\u001b[1;33m.\u001b[0m\u001b[0mgetline\u001b[0m\u001b[1;33m(\u001b[0m\u001b[0mself\u001b[0m\u001b[1;33m.\u001b[0m\u001b[0mfilename\u001b[0m\u001b[1;33m,\u001b[0m \u001b[0mself\u001b[0m\u001b[1;33m.\u001b[0m\u001b[0mlineno\u001b[0m\u001b[1;33m)\u001b[0m\u001b[1;33m.\u001b[0m\u001b[0mstrip\u001b[0m\u001b[1;33m(\u001b[0m\u001b[1;33m)\u001b[0m\u001b[1;33m\u001b[0m\u001b[0m\n\u001b[0m\u001b[1;32m    283\u001b[0m         \u001b[1;32mreturn\u001b[0m \u001b[0mself\u001b[0m\u001b[1;33m.\u001b[0m\u001b[0m_line\u001b[0m\u001b[1;33m\u001b[0m\u001b[0m\n",
      "\u001b[0;32mC:\\Users\\Snir\\Anaconda3\\lib\\linecache.py\u001b[0m in \u001b[0;36mgetline\u001b[0;34m(filename, lineno, module_globals)\u001b[0m\n\u001b[1;32m     15\u001b[0m \u001b[1;32mdef\u001b[0m \u001b[0mgetline\u001b[0m\u001b[1;33m(\u001b[0m\u001b[0mfilename\u001b[0m\u001b[1;33m,\u001b[0m \u001b[0mlineno\u001b[0m\u001b[1;33m,\u001b[0m \u001b[0mmodule_globals\u001b[0m\u001b[1;33m=\u001b[0m\u001b[1;32mNone\u001b[0m\u001b[1;33m)\u001b[0m\u001b[1;33m:\u001b[0m\u001b[1;33m\u001b[0m\u001b[0m\n\u001b[0;32m---> 16\u001b[0;31m     \u001b[0mlines\u001b[0m \u001b[1;33m=\u001b[0m \u001b[0mgetlines\u001b[0m\u001b[1;33m(\u001b[0m\u001b[0mfilename\u001b[0m\u001b[1;33m,\u001b[0m \u001b[0mmodule_globals\u001b[0m\u001b[1;33m)\u001b[0m\u001b[1;33m\u001b[0m\u001b[0m\n\u001b[0m\u001b[1;32m     17\u001b[0m     \u001b[1;32mif\u001b[0m \u001b[1;36m1\u001b[0m \u001b[1;33m<=\u001b[0m \u001b[0mlineno\u001b[0m \u001b[1;33m<=\u001b[0m \u001b[0mlen\u001b[0m\u001b[1;33m(\u001b[0m\u001b[0mlines\u001b[0m\u001b[1;33m)\u001b[0m\u001b[1;33m:\u001b[0m\u001b[1;33m\u001b[0m\u001b[0m\n",
      "\u001b[0;32mC:\\Users\\Snir\\Anaconda3\\lib\\linecache.py\u001b[0m in \u001b[0;36mgetlines\u001b[0;34m(filename, module_globals)\u001b[0m\n\u001b[1;32m     46\u001b[0m     \u001b[1;32mtry\u001b[0m\u001b[1;33m:\u001b[0m\u001b[1;33m\u001b[0m\u001b[0m\n\u001b[0;32m---> 47\u001b[0;31m         \u001b[1;32mreturn\u001b[0m \u001b[0mupdatecache\u001b[0m\u001b[1;33m(\u001b[0m\u001b[0mfilename\u001b[0m\u001b[1;33m,\u001b[0m \u001b[0mmodule_globals\u001b[0m\u001b[1;33m)\u001b[0m\u001b[1;33m\u001b[0m\u001b[0m\n\u001b[0m\u001b[1;32m     48\u001b[0m     \u001b[1;32mexcept\u001b[0m \u001b[0mMemoryError\u001b[0m\u001b[1;33m:\u001b[0m\u001b[1;33m\u001b[0m\u001b[0m\n",
      "\u001b[0;32mC:\\Users\\Snir\\Anaconda3\\lib\\linecache.py\u001b[0m in \u001b[0;36mupdatecache\u001b[0;34m(filename, module_globals)\u001b[0m\n\u001b[1;32m    135\u001b[0m     \u001b[1;32mtry\u001b[0m\u001b[1;33m:\u001b[0m\u001b[1;33m\u001b[0m\u001b[0m\n\u001b[0;32m--> 136\u001b[0;31m         \u001b[1;32mwith\u001b[0m \u001b[0mtokenize\u001b[0m\u001b[1;33m.\u001b[0m\u001b[0mopen\u001b[0m\u001b[1;33m(\u001b[0m\u001b[0mfullname\u001b[0m\u001b[1;33m)\u001b[0m \u001b[1;32mas\u001b[0m \u001b[0mfp\u001b[0m\u001b[1;33m:\u001b[0m\u001b[1;33m\u001b[0m\u001b[0m\n\u001b[0m\u001b[1;32m    137\u001b[0m             \u001b[0mlines\u001b[0m \u001b[1;33m=\u001b[0m \u001b[0mfp\u001b[0m\u001b[1;33m.\u001b[0m\u001b[0mreadlines\u001b[0m\u001b[1;33m(\u001b[0m\u001b[1;33m)\u001b[0m\u001b[1;33m\u001b[0m\u001b[0m\n",
      "\u001b[0;32mC:\\Users\\Snir\\Anaconda3\\lib\\tokenize.py\u001b[0m in \u001b[0;36mopen\u001b[0;34m(filename)\u001b[0m\n\u001b[1;32m    451\u001b[0m     \"\"\"\n\u001b[0;32m--> 452\u001b[0;31m     \u001b[0mbuffer\u001b[0m \u001b[1;33m=\u001b[0m \u001b[0m_builtin_open\u001b[0m\u001b[1;33m(\u001b[0m\u001b[0mfilename\u001b[0m\u001b[1;33m,\u001b[0m \u001b[1;34m'rb'\u001b[0m\u001b[1;33m)\u001b[0m\u001b[1;33m\u001b[0m\u001b[0m\n\u001b[0m\u001b[1;32m    453\u001b[0m     \u001b[1;32mtry\u001b[0m\u001b[1;33m:\u001b[0m\u001b[1;33m\u001b[0m\u001b[0m\n",
      "\u001b[0;31mKeyboardInterrupt\u001b[0m: ",
      "\nDuring handling of the above exception, another exception occurred:\n",
      "\u001b[0;31mKeyboardInterrupt\u001b[0m                         Traceback (most recent call last)",
      "\u001b[0;32mC:\\Users\\Snir\\Anaconda3\\lib\\site-packages\\IPython\\core\\interactiveshell.py\u001b[0m in \u001b[0;36mrun_code\u001b[0;34m(self, code_obj, result)\u001b[0m\n\u001b[1;32m   2896\u001b[0m             \u001b[1;32mif\u001b[0m \u001b[0mresult\u001b[0m \u001b[1;32mis\u001b[0m \u001b[1;32mnot\u001b[0m \u001b[1;32mNone\u001b[0m\u001b[1;33m:\u001b[0m\u001b[1;33m\u001b[0m\u001b[0m\n\u001b[1;32m   2897\u001b[0m                 \u001b[0mresult\u001b[0m\u001b[1;33m.\u001b[0m\u001b[0merror_in_exec\u001b[0m \u001b[1;33m=\u001b[0m \u001b[0msys\u001b[0m\u001b[1;33m.\u001b[0m\u001b[0mexc_info\u001b[0m\u001b[1;33m(\u001b[0m\u001b[1;33m)\u001b[0m\u001b[1;33m[\u001b[0m\u001b[1;36m1\u001b[0m\u001b[1;33m]\u001b[0m\u001b[1;33m\u001b[0m\u001b[0m\n\u001b[0;32m-> 2898\u001b[0;31m             \u001b[0mself\u001b[0m\u001b[1;33m.\u001b[0m\u001b[0mshowtraceback\u001b[0m\u001b[1;33m(\u001b[0m\u001b[1;33m)\u001b[0m\u001b[1;33m\u001b[0m\u001b[0m\n\u001b[0m\u001b[1;32m   2899\u001b[0m         \u001b[1;32melse\u001b[0m\u001b[1;33m:\u001b[0m\u001b[1;33m\u001b[0m\u001b[0m\n\u001b[1;32m   2900\u001b[0m             \u001b[0moutflag\u001b[0m \u001b[1;33m=\u001b[0m \u001b[1;36m0\u001b[0m\u001b[1;33m\u001b[0m\u001b[0m\n",
      "\u001b[0;32mC:\\Users\\Snir\\Anaconda3\\lib\\site-packages\\IPython\\core\\interactiveshell.py\u001b[0m in \u001b[0;36mshowtraceback\u001b[0;34m(self, exc_tuple, filename, tb_offset, exception_only)\u001b[0m\n\u001b[1;32m   1834\u001b[0m \u001b[1;33m\u001b[0m\u001b[0m\n\u001b[1;32m   1835\u001b[0m         \u001b[1;32mexcept\u001b[0m \u001b[0mKeyboardInterrupt\u001b[0m\u001b[1;33m:\u001b[0m\u001b[1;33m\u001b[0m\u001b[0m\n\u001b[0;32m-> 1836\u001b[0;31m             \u001b[0mprint\u001b[0m\u001b[1;33m(\u001b[0m\u001b[1;34m'\\n'\u001b[0m \u001b[1;33m+\u001b[0m \u001b[0mself\u001b[0m\u001b[1;33m.\u001b[0m\u001b[0mget_exception_only\u001b[0m\u001b[1;33m(\u001b[0m\u001b[1;33m)\u001b[0m\u001b[1;33m,\u001b[0m \u001b[0mfile\u001b[0m\u001b[1;33m=\u001b[0m\u001b[0msys\u001b[0m\u001b[1;33m.\u001b[0m\u001b[0mstderr\u001b[0m\u001b[1;33m)\u001b[0m\u001b[1;33m\u001b[0m\u001b[0m\n\u001b[0m\u001b[1;32m   1837\u001b[0m \u001b[1;33m\u001b[0m\u001b[0m\n\u001b[1;32m   1838\u001b[0m     \u001b[1;32mdef\u001b[0m \u001b[0m_showtraceback\u001b[0m\u001b[1;33m(\u001b[0m\u001b[0mself\u001b[0m\u001b[1;33m,\u001b[0m \u001b[0metype\u001b[0m\u001b[1;33m,\u001b[0m \u001b[0mevalue\u001b[0m\u001b[1;33m,\u001b[0m \u001b[0mstb\u001b[0m\u001b[1;33m)\u001b[0m\u001b[1;33m:\u001b[0m\u001b[1;33m\u001b[0m\u001b[0m\n",
      "\u001b[0;32mC:\\Users\\Snir\\Anaconda3\\lib\\site-packages\\IPython\\core\\interactiveshell.py\u001b[0m in \u001b[0;36mget_exception_only\u001b[0;34m(self, exc_tuple)\u001b[0m\n\u001b[1;32m   1779\u001b[0m         \"\"\"\n\u001b[1;32m   1780\u001b[0m         \u001b[0metype\u001b[0m\u001b[1;33m,\u001b[0m \u001b[0mvalue\u001b[0m\u001b[1;33m,\u001b[0m \u001b[0mtb\u001b[0m \u001b[1;33m=\u001b[0m \u001b[0mself\u001b[0m\u001b[1;33m.\u001b[0m\u001b[0m_get_exc_info\u001b[0m\u001b[1;33m(\u001b[0m\u001b[0mexc_tuple\u001b[0m\u001b[1;33m)\u001b[0m\u001b[1;33m\u001b[0m\u001b[0m\n\u001b[0;32m-> 1781\u001b[0;31m         \u001b[0mmsg\u001b[0m \u001b[1;33m=\u001b[0m \u001b[0mtraceback\u001b[0m\u001b[1;33m.\u001b[0m\u001b[0mformat_exception_only\u001b[0m\u001b[1;33m(\u001b[0m\u001b[0metype\u001b[0m\u001b[1;33m,\u001b[0m \u001b[0mvalue\u001b[0m\u001b[1;33m)\u001b[0m\u001b[1;33m\u001b[0m\u001b[0m\n\u001b[0m\u001b[1;32m   1782\u001b[0m         \u001b[1;32mreturn\u001b[0m \u001b[1;34m''\u001b[0m\u001b[1;33m.\u001b[0m\u001b[0mjoin\u001b[0m\u001b[1;33m(\u001b[0m\u001b[0mmsg\u001b[0m\u001b[1;33m)\u001b[0m\u001b[1;33m\u001b[0m\u001b[0m\n\u001b[1;32m   1783\u001b[0m \u001b[1;33m\u001b[0m\u001b[0m\n",
      "\u001b[0;32mC:\\Users\\Snir\\Anaconda3\\lib\\traceback.py\u001b[0m in \u001b[0;36mformat_exception_only\u001b[0;34m(etype, value)\u001b[0m\n\u001b[1;32m    134\u001b[0m \u001b[1;33m\u001b[0m\u001b[0m\n\u001b[1;32m    135\u001b[0m     \"\"\"\n\u001b[0;32m--> 136\u001b[0;31m     \u001b[1;32mreturn\u001b[0m \u001b[0mlist\u001b[0m\u001b[1;33m(\u001b[0m\u001b[0mTracebackException\u001b[0m\u001b[1;33m(\u001b[0m\u001b[0metype\u001b[0m\u001b[1;33m,\u001b[0m \u001b[0mvalue\u001b[0m\u001b[1;33m,\u001b[0m \u001b[1;32mNone\u001b[0m\u001b[1;33m)\u001b[0m\u001b[1;33m.\u001b[0m\u001b[0mformat_exception_only\u001b[0m\u001b[1;33m(\u001b[0m\u001b[1;33m)\u001b[0m\u001b[1;33m)\u001b[0m\u001b[1;33m\u001b[0m\u001b[0m\n\u001b[0m\u001b[1;32m    137\u001b[0m \u001b[1;33m\u001b[0m\u001b[0m\n\u001b[1;32m    138\u001b[0m \u001b[1;33m\u001b[0m\u001b[0m\n",
      "\u001b[0;32mC:\\Users\\Snir\\Anaconda3\\lib\\traceback.py\u001b[0m in \u001b[0;36m__init__\u001b[0;34m(self, exc_type, exc_value, exc_traceback, limit, lookup_lines, capture_locals, _seen)\u001b[0m\n\u001b[1;32m    508\u001b[0m             \u001b[0mself\u001b[0m\u001b[1;33m.\u001b[0m\u001b[0mmsg\u001b[0m \u001b[1;33m=\u001b[0m \u001b[0mexc_value\u001b[0m\u001b[1;33m.\u001b[0m\u001b[0mmsg\u001b[0m\u001b[1;33m\u001b[0m\u001b[0m\n\u001b[1;32m    509\u001b[0m         \u001b[1;32mif\u001b[0m \u001b[0mlookup_lines\u001b[0m\u001b[1;33m:\u001b[0m\u001b[1;33m\u001b[0m\u001b[0m\n\u001b[0;32m--> 510\u001b[0;31m             \u001b[0mself\u001b[0m\u001b[1;33m.\u001b[0m\u001b[0m_load_lines\u001b[0m\u001b[1;33m(\u001b[0m\u001b[1;33m)\u001b[0m\u001b[1;33m\u001b[0m\u001b[0m\n\u001b[0m\u001b[1;32m    511\u001b[0m \u001b[1;33m\u001b[0m\u001b[0m\n\u001b[1;32m    512\u001b[0m     \u001b[1;33m@\u001b[0m\u001b[0mclassmethod\u001b[0m\u001b[1;33m\u001b[0m\u001b[0m\n",
      "\u001b[0;32mC:\\Users\\Snir\\Anaconda3\\lib\\traceback.py\u001b[0m in \u001b[0;36m_load_lines\u001b[0;34m(self)\u001b[0m\n\u001b[1;32m    520\u001b[0m             \u001b[0mframe\u001b[0m\u001b[1;33m.\u001b[0m\u001b[0mline\u001b[0m\u001b[1;33m\u001b[0m\u001b[0m\n\u001b[1;32m    521\u001b[0m         \u001b[1;32mif\u001b[0m \u001b[0mself\u001b[0m\u001b[1;33m.\u001b[0m\u001b[0m__context__\u001b[0m\u001b[1;33m:\u001b[0m\u001b[1;33m\u001b[0m\u001b[0m\n\u001b[0;32m--> 522\u001b[0;31m             \u001b[0mself\u001b[0m\u001b[1;33m.\u001b[0m\u001b[0m__context__\u001b[0m\u001b[1;33m.\u001b[0m\u001b[0m_load_lines\u001b[0m\u001b[1;33m(\u001b[0m\u001b[1;33m)\u001b[0m\u001b[1;33m\u001b[0m\u001b[0m\n\u001b[0m\u001b[1;32m    523\u001b[0m         \u001b[1;32mif\u001b[0m \u001b[0mself\u001b[0m\u001b[1;33m.\u001b[0m\u001b[0m__cause__\u001b[0m\u001b[1;33m:\u001b[0m\u001b[1;33m\u001b[0m\u001b[0m\n\u001b[1;32m    524\u001b[0m             \u001b[0mself\u001b[0m\u001b[1;33m.\u001b[0m\u001b[0m__cause__\u001b[0m\u001b[1;33m.\u001b[0m\u001b[0m_load_lines\u001b[0m\u001b[1;33m(\u001b[0m\u001b[1;33m)\u001b[0m\u001b[1;33m\u001b[0m\u001b[0m\n",
      "\u001b[0;32mC:\\Users\\Snir\\Anaconda3\\lib\\traceback.py\u001b[0m in \u001b[0;36m_load_lines\u001b[0;34m(self)\u001b[0m\n\u001b[1;32m    518\u001b[0m         \u001b[1;34m\"\"\"Private API. force all lines in the stack to be loaded.\"\"\"\u001b[0m\u001b[1;33m\u001b[0m\u001b[0m\n\u001b[1;32m    519\u001b[0m         \u001b[1;32mfor\u001b[0m \u001b[0mframe\u001b[0m \u001b[1;32min\u001b[0m \u001b[0mself\u001b[0m\u001b[1;33m.\u001b[0m\u001b[0mstack\u001b[0m\u001b[1;33m:\u001b[0m\u001b[1;33m\u001b[0m\u001b[0m\n\u001b[0;32m--> 520\u001b[0;31m             \u001b[0mframe\u001b[0m\u001b[1;33m.\u001b[0m\u001b[0mline\u001b[0m\u001b[1;33m\u001b[0m\u001b[0m\n\u001b[0m\u001b[1;32m    521\u001b[0m         \u001b[1;32mif\u001b[0m \u001b[0mself\u001b[0m\u001b[1;33m.\u001b[0m\u001b[0m__context__\u001b[0m\u001b[1;33m:\u001b[0m\u001b[1;33m\u001b[0m\u001b[0m\n\u001b[1;32m    522\u001b[0m             \u001b[0mself\u001b[0m\u001b[1;33m.\u001b[0m\u001b[0m__context__\u001b[0m\u001b[1;33m.\u001b[0m\u001b[0m_load_lines\u001b[0m\u001b[1;33m(\u001b[0m\u001b[1;33m)\u001b[0m\u001b[1;33m\u001b[0m\u001b[0m\n",
      "\u001b[0;32mC:\\Users\\Snir\\Anaconda3\\lib\\traceback.py\u001b[0m in \u001b[0;36mline\u001b[0;34m(self)\u001b[0m\n\u001b[1;32m    280\u001b[0m     \u001b[1;32mdef\u001b[0m \u001b[0mline\u001b[0m\u001b[1;33m(\u001b[0m\u001b[0mself\u001b[0m\u001b[1;33m)\u001b[0m\u001b[1;33m:\u001b[0m\u001b[1;33m\u001b[0m\u001b[0m\n\u001b[1;32m    281\u001b[0m         \u001b[1;32mif\u001b[0m \u001b[0mself\u001b[0m\u001b[1;33m.\u001b[0m\u001b[0m_line\u001b[0m \u001b[1;32mis\u001b[0m \u001b[1;32mNone\u001b[0m\u001b[1;33m:\u001b[0m\u001b[1;33m\u001b[0m\u001b[0m\n\u001b[0;32m--> 282\u001b[0;31m             \u001b[0mself\u001b[0m\u001b[1;33m.\u001b[0m\u001b[0m_line\u001b[0m \u001b[1;33m=\u001b[0m \u001b[0mlinecache\u001b[0m\u001b[1;33m.\u001b[0m\u001b[0mgetline\u001b[0m\u001b[1;33m(\u001b[0m\u001b[0mself\u001b[0m\u001b[1;33m.\u001b[0m\u001b[0mfilename\u001b[0m\u001b[1;33m,\u001b[0m \u001b[0mself\u001b[0m\u001b[1;33m.\u001b[0m\u001b[0mlineno\u001b[0m\u001b[1;33m)\u001b[0m\u001b[1;33m.\u001b[0m\u001b[0mstrip\u001b[0m\u001b[1;33m(\u001b[0m\u001b[1;33m)\u001b[0m\u001b[1;33m\u001b[0m\u001b[0m\n\u001b[0m\u001b[1;32m    283\u001b[0m         \u001b[1;32mreturn\u001b[0m \u001b[0mself\u001b[0m\u001b[1;33m.\u001b[0m\u001b[0m_line\u001b[0m\u001b[1;33m\u001b[0m\u001b[0m\n\u001b[1;32m    284\u001b[0m \u001b[1;33m\u001b[0m\u001b[0m\n",
      "\u001b[0;32mC:\\Users\\Snir\\Anaconda3\\lib\\linecache.py\u001b[0m in \u001b[0;36mgetline\u001b[0;34m(filename, lineno, module_globals)\u001b[0m\n\u001b[1;32m     14\u001b[0m \u001b[1;33m\u001b[0m\u001b[0m\n\u001b[1;32m     15\u001b[0m \u001b[1;32mdef\u001b[0m \u001b[0mgetline\u001b[0m\u001b[1;33m(\u001b[0m\u001b[0mfilename\u001b[0m\u001b[1;33m,\u001b[0m \u001b[0mlineno\u001b[0m\u001b[1;33m,\u001b[0m \u001b[0mmodule_globals\u001b[0m\u001b[1;33m=\u001b[0m\u001b[1;32mNone\u001b[0m\u001b[1;33m)\u001b[0m\u001b[1;33m:\u001b[0m\u001b[1;33m\u001b[0m\u001b[0m\n\u001b[0;32m---> 16\u001b[0;31m     \u001b[0mlines\u001b[0m \u001b[1;33m=\u001b[0m \u001b[0mgetlines\u001b[0m\u001b[1;33m(\u001b[0m\u001b[0mfilename\u001b[0m\u001b[1;33m,\u001b[0m \u001b[0mmodule_globals\u001b[0m\u001b[1;33m)\u001b[0m\u001b[1;33m\u001b[0m\u001b[0m\n\u001b[0m\u001b[1;32m     17\u001b[0m     \u001b[1;32mif\u001b[0m \u001b[1;36m1\u001b[0m \u001b[1;33m<=\u001b[0m \u001b[0mlineno\u001b[0m \u001b[1;33m<=\u001b[0m \u001b[0mlen\u001b[0m\u001b[1;33m(\u001b[0m\u001b[0mlines\u001b[0m\u001b[1;33m)\u001b[0m\u001b[1;33m:\u001b[0m\u001b[1;33m\u001b[0m\u001b[0m\n\u001b[1;32m     18\u001b[0m         \u001b[1;32mreturn\u001b[0m \u001b[0mlines\u001b[0m\u001b[1;33m[\u001b[0m\u001b[0mlineno\u001b[0m\u001b[1;33m-\u001b[0m\u001b[1;36m1\u001b[0m\u001b[1;33m]\u001b[0m\u001b[1;33m\u001b[0m\u001b[0m\n",
      "\u001b[0;32mC:\\Users\\Snir\\Anaconda3\\lib\\linecache.py\u001b[0m in \u001b[0;36mgetlines\u001b[0;34m(filename, module_globals)\u001b[0m\n\u001b[1;32m     45\u001b[0m \u001b[1;33m\u001b[0m\u001b[0m\n\u001b[1;32m     46\u001b[0m     \u001b[1;32mtry\u001b[0m\u001b[1;33m:\u001b[0m\u001b[1;33m\u001b[0m\u001b[0m\n\u001b[0;32m---> 47\u001b[0;31m         \u001b[1;32mreturn\u001b[0m \u001b[0mupdatecache\u001b[0m\u001b[1;33m(\u001b[0m\u001b[0mfilename\u001b[0m\u001b[1;33m,\u001b[0m \u001b[0mmodule_globals\u001b[0m\u001b[1;33m)\u001b[0m\u001b[1;33m\u001b[0m\u001b[0m\n\u001b[0m\u001b[1;32m     48\u001b[0m     \u001b[1;32mexcept\u001b[0m \u001b[0mMemoryError\u001b[0m\u001b[1;33m:\u001b[0m\u001b[1;33m\u001b[0m\u001b[0m\n\u001b[1;32m     49\u001b[0m         \u001b[0mclearcache\u001b[0m\u001b[1;33m(\u001b[0m\u001b[1;33m)\u001b[0m\u001b[1;33m\u001b[0m\u001b[0m\n",
      "\u001b[0;32mC:\\Users\\Snir\\Anaconda3\\lib\\linecache.py\u001b[0m in \u001b[0;36mupdatecache\u001b[0;34m(filename, module_globals)\u001b[0m\n\u001b[1;32m    135\u001b[0m     \u001b[1;32mtry\u001b[0m\u001b[1;33m:\u001b[0m\u001b[1;33m\u001b[0m\u001b[0m\n\u001b[1;32m    136\u001b[0m         \u001b[1;32mwith\u001b[0m \u001b[0mtokenize\u001b[0m\u001b[1;33m.\u001b[0m\u001b[0mopen\u001b[0m\u001b[1;33m(\u001b[0m\u001b[0mfullname\u001b[0m\u001b[1;33m)\u001b[0m \u001b[1;32mas\u001b[0m \u001b[0mfp\u001b[0m\u001b[1;33m:\u001b[0m\u001b[1;33m\u001b[0m\u001b[0m\n\u001b[0;32m--> 137\u001b[0;31m             \u001b[0mlines\u001b[0m \u001b[1;33m=\u001b[0m \u001b[0mfp\u001b[0m\u001b[1;33m.\u001b[0m\u001b[0mreadlines\u001b[0m\u001b[1;33m(\u001b[0m\u001b[1;33m)\u001b[0m\u001b[1;33m\u001b[0m\u001b[0m\n\u001b[0m\u001b[1;32m    138\u001b[0m     \u001b[1;32mexcept\u001b[0m \u001b[0mOSError\u001b[0m\u001b[1;33m:\u001b[0m\u001b[1;33m\u001b[0m\u001b[0m\n\u001b[1;32m    139\u001b[0m         \u001b[1;32mreturn\u001b[0m \u001b[1;33m[\u001b[0m\u001b[1;33m]\u001b[0m\u001b[1;33m\u001b[0m\u001b[0m\n",
      "\u001b[0;32mC:\\Users\\Snir\\Anaconda3\\lib\\codecs.py\u001b[0m in \u001b[0;36mdecode\u001b[0;34m(self, input, final)\u001b[0m\n\u001b[1;32m    316\u001b[0m         \u001b[1;32mraise\u001b[0m \u001b[0mNotImplementedError\u001b[0m\u001b[1;33m\u001b[0m\u001b[0m\n\u001b[1;32m    317\u001b[0m \u001b[1;33m\u001b[0m\u001b[0m\n\u001b[0;32m--> 318\u001b[0;31m     \u001b[1;32mdef\u001b[0m \u001b[0mdecode\u001b[0m\u001b[1;33m(\u001b[0m\u001b[0mself\u001b[0m\u001b[1;33m,\u001b[0m \u001b[0minput\u001b[0m\u001b[1;33m,\u001b[0m \u001b[0mfinal\u001b[0m\u001b[1;33m=\u001b[0m\u001b[1;32mFalse\u001b[0m\u001b[1;33m)\u001b[0m\u001b[1;33m:\u001b[0m\u001b[1;33m\u001b[0m\u001b[0m\n\u001b[0m\u001b[1;32m    319\u001b[0m         \u001b[1;31m# decode input (taking the buffer into account)\u001b[0m\u001b[1;33m\u001b[0m\u001b[1;33m\u001b[0m\u001b[0m\n\u001b[1;32m    320\u001b[0m         \u001b[0mdata\u001b[0m \u001b[1;33m=\u001b[0m \u001b[0mself\u001b[0m\u001b[1;33m.\u001b[0m\u001b[0mbuffer\u001b[0m \u001b[1;33m+\u001b[0m \u001b[0minput\u001b[0m\u001b[1;33m\u001b[0m\u001b[0m\n",
      "\u001b[0;31mKeyboardInterrupt\u001b[0m: "
     ]
    }
   ],
   "source": [
    "import numpy as np\n",
    "import scipy\n",
    "import matplotlib.pyplot as plt\n",
    "import itertools\n",
    "from sklearn import datasets\n",
    "from sklearn.preprocessing import LabelEncoder\n",
    "from sklearn.model_selection import train_test_split, KFold, GridSearchCV,RandomizedSearchCV\n",
    "from sklearn.metrics import confusion_matrix, classification_report, accuracy_score\n",
    "from keras.models import Sequential\n",
    "from keras.layers import Dense\n",
    "from keras.utils import to_categorical\n",
    "#fix seed for reproducibility\n",
    "seed=7\n",
    "np.random.seed(seed)\n",
    "n_samples=100000\n",
    "n_features=20\n",
    "X, y = make_classification(n_samples=n_samples, n_features=n_features, n_informative=5, n_redundant=2, n_repeated=0, n_classes=2,\\\n",
    "                           n_clusters_per_class=2, weights=[0.9,0.1], flip_y=0.01, class_sep=1.0, hypercube=True, shift=0.0,\\\n",
    "                           scale=1.0, shuffle=True, random_state=None)\n",
    "X_train, X_test, y_train, y_test = train_test_split( X, y, test_size=0.33, random_state=42)\n",
    "\n",
    "#import data without any dummy variables or changes\n",
    "param_grid = {'nn__layers': [[100,100]],\n",
    "              'nn__activation':['selu'],\n",
    "              'nn__dropout': [0.],\n",
    "              'nn__a_dropout': [0.2],\n",
    "              'nn__k_init': ['lecun_normal'],\n",
    "              'nn__b_init': ['lecun_normal'],\n",
    "              'nn__optimizer':['adam'],\n",
    "              'nn__metrics' : ['accuracy'],\n",
    "              'nn__epochs':[10],\n",
    "              'nn__batch_size':[32]}\n",
    "\n",
    "#improve with article\n",
    "grid = GridSearchCV(pipe,\n",
    "                    param_grid,\n",
    "                    return_train_score=True,\n",
    "                    refit=True,\n",
    "                    scoring='roc_auc',\n",
    "                    verbose=15)\n",
    "rand_param_grid = {'layers': [[100,100],[100,100,100],[50,50,50,50]],\n",
    "              'activation':['relu','selu'],\n",
    "              'dropout': scipy.stats.expon(scale=0.5),\n",
    "              'a_dropout': scipy.stats.expon(scale=0.2),\n",
    "              'k_init': ['lecun_normal'],\n",
    "              'b_init': ['lecun_normal'],\n",
    "              'a_reg': ['regularizers.l1(0.01)', None],\n",
    "              'b_reg': ['regularizers.l2(0.01)', None],\n",
    "              'optimizer':('rmsprop','adam'),\n",
    "              'metrics' : ['accuracy'],\n",
    "              'epochs':[10,50],\n",
    "              'batch_size':[128,32,16]} \n",
    "#improve with article\n",
    "rand_grid = RandomizedSearchCV(model_no_act,\n",
    "                               rand_param_grid,\n",
    "                    return_train_score=True,\n",
    "                    refit=True,\n",
    "                    scoring= lift_index_score)\n",
    "grid_result = grid.fit(X_train,y_train, batch_size=32, epochs=100) #reg search\n",
    "#rand_grid_results = rand_grid.fit(X_train, y_train) #random search\n",
    "#reg search\n",
    "means = grid_result.cv_results_['mean_test_score']\n",
    "stds = grid_result.cv_results_['std_test_score']\n",
    "params = grid_result.cv_results_['params']\n",
    "for mean, stdev, param in zip(means, stds, params):\n",
    "    print(\"%f (%f) with: %r\" % (mean, stdev, param))\n",
    "#random searh\n"
   ]
  },
  {
   "cell_type": "code",
   "execution_count": null,
   "metadata": {
    "collapsed": true
   },
   "outputs": [],
   "source": [
    "#run with cv_results_['params']\n",
    "#and use helper functions above to show output\n",
    "#visualization\n",
    "from keras.utils import plot_model\n",
    "#visualize best model\n",
    "n_classes = 2\n",
    "model_name = 'dense'\n",
    "plot_confusion_matrix(confusion_matrix(grid_result.predict_classes(X_test), y_test), n_classes)\n"
   ]
  },
  {
   "cell_type": "code",
   "execution_count": null,
   "metadata": {
    "collapsed": true
   },
   "outputs": [],
   "source": [
    "best = construct_model( layers=model.best_params_['layers'],\n",
    "              activation=model.best_params_['activation'],\n",
    "              b_init=model.best_params_['b_init'],\n",
    "              k_init=model.best_params_['k_init'],\n",
    "              dropout=model.best_params_['dropout'],\n",
    "              a_dropout=model.best_params_['a_dropout'],\n",
    "              optimizer=model.best_params_['optimizer'],\n",
    "              metrics=model.best_params_['metrics'] )\n",
    "plot_history(best.fit(X_test, y_test, validation_split=0.33, epochs=50, batch_size=10, verbose=10))\n"
   ]
  },
  {
   "cell_type": "code",
   "execution_count": null,
   "metadata": {
    "collapsed": true
   },
   "outputs": [],
   "source": [
    "#save model\n",
    "def save(model, model_name):\n",
    "    model_path = \"saved_model/%s.json\" % model_name\n",
    "    weights_path = \"saved_model/%s_weights.hdf5\" % model_name\n",
    "    options = {\"file_arch\": model_path,\n",
    "                \"file_weight\": weights_path}\n",
    "    json_string = model.to_json()\n",
    "    open(options['file_arch'], 'w').write(json_string)\n",
    "    model.save_weights(options['file_weight'])\n",
    "\n",
    "save(self.generator, \"aae_generator\")\n",
    "save(self.discriminator, \"aae_discriminator\")"
   ]
  }
 ],
 "metadata": {
  "kernelspec": {
   "display_name": "Python 3",
   "language": "python",
   "name": "python3"
  },
  "language_info": {
   "codemirror_mode": {
    "name": "ipython",
    "version": 3
   },
   "file_extension": ".py",
   "mimetype": "text/x-python",
   "name": "python",
   "nbconvert_exporter": "python",
   "pygments_lexer": "ipython3",
   "version": "3.6.6"
  }
 },
 "nbformat": 4,
 "nbformat_minor": 2
}
